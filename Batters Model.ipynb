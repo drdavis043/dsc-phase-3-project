{
 "cells": [
  {
   "cell_type": "markdown",
   "metadata": {},
   "source": [
    "# Batters"
   ]
  },
  {
   "cell_type": "markdown",
   "metadata": {},
   "source": [
    "Now that I have my tables cleaned, combined and ready for analysis it's time to get a better understanding of the data and make any final changes to remove outliers or unnecessary columns. This notebook will be solely focused on batters, I will have a separate notebook for the pitchers that will follow along a very similar process to this one."
   ]
  },
  {
   "cell_type": "markdown",
   "metadata": {},
   "source": [
    "## Data Preparation"
   ]
  },
  {
   "cell_type": "code",
   "execution_count": 1,
   "metadata": {},
   "outputs": [
    {
     "name": "stderr",
     "output_type": "stream",
     "text": [
      "/Users/derekdavis/anaconda3/envs/learn-env/lib/python3.6/site-packages/sklearn/externals/six.py:31: FutureWarning: The module is deprecated in version 0.21 and will be removed in version 0.23 since we've dropped support for Python 2.7. Please rely on the official version of six (https://pypi.org/project/six/).\n",
      "  \"(https://pypi.org/project/six/).\", FutureWarning)\n",
      "/Users/derekdavis/anaconda3/envs/learn-env/lib/python3.6/site-packages/sklearn/utils/deprecation.py:144: FutureWarning: The sklearn.neighbors.base module is  deprecated in version 0.22 and will be removed in version 0.24. The corresponding classes / functions should instead be imported from sklearn.neighbors. Anything that cannot be imported from sklearn.neighbors is now part of the private API.\n",
      "  warnings.warn(message, FutureWarning)\n"
     ]
    }
   ],
   "source": [
    "# Import necessary libraries.\n",
    "import pandas as pd\n",
    "import numpy as np\n",
    "import matplotlib.pyplot as plt\n",
    "import seaborn as sns\n",
    "from sklearn.model_selection import train_test_split, GridSearchCV, cross_val_score\n",
    "from sklearn.metrics import accuracy_score, confusion_matrix, classification_report, precision_score, recall_score, f1_score\n",
    "from sklearn.tree import DecisionTreeClassifier\n",
    "from sklearn.ensemble import BaggingClassifier, RandomForestClassifier, AdaBoostClassifier\n",
    "from sklearn import model_selection, preprocessing, feature_selection, ensemble, linear_model, metrics, decomposition, svm\n",
    "from xgboost import XGBClassifier\n",
    "from sklearn.preprocessing import StandardScaler, MinMaxScaler, PolynomialFeatures\n",
    "from sklearn.neighbors import KNeighborsClassifier\n",
    "from sklearn.linear_model import LogisticRegression\n",
    "from sklearn.pipeline import Pipeline\n",
    "from sklearn.model_selection import learning_curve, validation_curve\n",
    "from sklearn.svm import SVC\n",
    "from sklearn.metrics import plot_confusion_matrix\n",
    "from imblearn.over_sampling import SMOTE\n",
    "import warnings\n",
    "warnings.filterwarnings(\"ignore\")"
   ]
  },
  {
   "cell_type": "code",
   "execution_count": 130,
   "metadata": {},
   "outputs": [],
   "source": [
    "# Visualize the impact of a few key metrics on Hall of Fame inclusivity \n",
    "def comparative_graph(s):\n",
    "    cat, num = 'inducted', s\n",
    "    fig, ax = plt.subplots(nrows=1, ncols=3,  sharex=False, sharey=False, figsize=(20, 7))\n",
    "    fig.suptitle(s + ' vs Inducted', fontsize=20)\n",
    "\n",
    "    # Create a distribution graph to compare HOF inducted players against those not inducted by a certain metric.\n",
    "    ax[0].title.set_text('density')\n",
    "    for i in df[cat].unique():\n",
    "        sns.distplot(df[df[cat]==i][num], hist=False, label=i, ax=ax[0])\n",
    "    ax[0].grid(True)\n",
    "    \n",
    "    # Create a stacked bar graph containing 10 bins to help visualize the divide between the two classes of players.\n",
    "    ax[1].title.set_text('bins')\n",
    "    breaks = np.quantile(df[num], q=np.linspace(0,1,11))\n",
    "    tmp = df.groupby([cat, pd.cut(df[num], breaks, duplicates='drop')]).size().unstack().T\n",
    "    tmp = tmp[df[cat].unique()]\n",
    "    tmp[\"tot\"] = tmp.sum(axis=1)\n",
    "    for col in tmp.drop(\"tot\", axis=1).columns:\n",
    "         tmp[col] = tmp[col] / tmp[\"tot\"]\n",
    "    tmp.drop(\"tot\", axis=1).plot(kind='bar', stacked=True, ax=ax[1], legend=False, grid=True)\n",
    "    \n",
    "    # Create a boxplot to compare HOF inducted players against those not inducted and to visualize outliers.   \n",
    "    ax[2].title.set_text('outliers')\n",
    "    sns.boxplot(x=cat, y=num, data=df, ax=ax[2])\n",
    "    ax[2].grid(True)\n",
    "    plt.savefig(s)\n",
    "    plt.show();\n",
    "\n",
    "    \n",
    "# Create a new correlated dataframe with absolute value of a number,\n",
    "def high_corr(df):\n",
    "    df_highcorr = df.corr().abs().stack().reset_index().sort_values(0, ascending=False)\n",
    "    df_highcorr['Highly Correlated Pairs'] = list(zip(df_highcorr.level_0, df_highcorr.level_1))\n",
    "    df_highcorr.set_index(['Highly Correlated Pairs'], inplace = True)\n",
    "    df_highcorr.drop(columns=['level_1', 'level_0'], inplace = True)\n",
    "    df_highcorr.columns = ['Correlation']\n",
    "    df_highcorr.drop_duplicates(inplace=True)\n",
    "    return df_highcorr[(df_highcorr.Correlation>.7) & (df_highcorr.Correlation<1)]\n",
    "    \n",
    "# Create function used to find Precision, Recall, Accuracy, and F1 Scores.\n",
    "def print_metrics(labels, preds):\n",
    "    print(\"Precision Score: {}\".format(precision_score(labels, preds)))\n",
    "    print(\"Recall Score: {}\".format(recall_score(labels, preds)))\n",
    "    print(\"Accuracy Score: {}\".format(accuracy_score(labels, preds)))\n",
    "    print(\"F1 Score: {}\".format(f1_score(labels, preds)))\n",
    "    \n",
    "# Find the optimal K value for KNN models.\n",
    "def find_best_k(X_train, y_train, X_test, y_test, min_k=1, max_k=25):\n",
    "    best_k = 0\n",
    "    best_score = 0.0\n",
    "    for k in range(min_k, max_k+1, 2):\n",
    "        knn = KNeighborsClassifier(n_neighbors=k)\n",
    "        knn.fit(X_train, y_train)\n",
    "        preds = knn.predict(X_test)\n",
    "        f1 = f1_score(y_test, preds)\n",
    "        if f1 > best_score:\n",
    "            best_k = k \n",
    "            best_score = f1\n",
    "            \n",
    "    print(\"Best Value for k: {}\".format(best_k))\n",
    "    print(\"F1-Score: {}\".format(best_score))\n",
    "\n",
    "# Create a function that visualizes the confusion matrix for the model.    \n",
    "def plot_cm(model):\n",
    "    fig, ax = plt.subplots(figsize=(8, 8))\n",
    "    plt.grid(False)\n",
    "    plot_confusion_matrix(model, X_test, y_test, cmap='Greens', ax=ax)\n",
    "    \n",
    "# Create function for performing log transformations.\n",
    "def log_transform(df,features):\n",
    "    '''Runs a log transformation on a feature\n",
    "    \n",
    "        @params\n",
    "        df is a pd.Dataframe\n",
    "        features is a list of columns to be considered\n",
    "        \n",
    "        @output\n",
    "        new log-transformed column\n",
    "    \n",
    "    '''\n",
    "    for feature in features:\n",
    "        df[feature + '_log'] = np.log(df[feature]+1)\n",
    "    return df "
   ]
  },
  {
   "cell_type": "code",
   "execution_count": 3,
   "metadata": {},
   "outputs": [
    {
     "data": {
      "text/html": [
       "<div>\n",
       "<style scoped>\n",
       "    .dataframe tbody tr th:only-of-type {\n",
       "        vertical-align: middle;\n",
       "    }\n",
       "\n",
       "    .dataframe tbody tr th {\n",
       "        vertical-align: top;\n",
       "    }\n",
       "\n",
       "    .dataframe thead th {\n",
       "        text-align: right;\n",
       "    }\n",
       "</style>\n",
       "<table border=\"1\" class=\"dataframe\">\n",
       "  <thead>\n",
       "    <tr style=\"text-align: right;\">\n",
       "      <th></th>\n",
       "      <th>playerID</th>\n",
       "      <th>Seasons</th>\n",
       "      <th>fullName</th>\n",
       "      <th>G</th>\n",
       "      <th>AB</th>\n",
       "      <th>R</th>\n",
       "      <th>H</th>\n",
       "      <th>2B</th>\n",
       "      <th>3B</th>\n",
       "      <th>HR</th>\n",
       "      <th>...</th>\n",
       "      <th>FP</th>\n",
       "      <th>Cy Young</th>\n",
       "      <th>Gold Glove</th>\n",
       "      <th>Hank Aaron</th>\n",
       "      <th>Most Valuable Player</th>\n",
       "      <th>Rolaids Relief Man Award</th>\n",
       "      <th>Rookie of the Year</th>\n",
       "      <th>Silver Slugger</th>\n",
       "      <th>ASG</th>\n",
       "      <th>inducted</th>\n",
       "    </tr>\n",
       "  </thead>\n",
       "  <tbody>\n",
       "    <tr>\n",
       "      <td>0</td>\n",
       "      <td>aaronha01</td>\n",
       "      <td>23</td>\n",
       "      <td>Hank Aaron</td>\n",
       "      <td>3298</td>\n",
       "      <td>12364</td>\n",
       "      <td>2174</td>\n",
       "      <td>3771</td>\n",
       "      <td>624</td>\n",
       "      <td>98</td>\n",
       "      <td>755</td>\n",
       "      <td>...</td>\n",
       "      <td>0.98</td>\n",
       "      <td>0.0</td>\n",
       "      <td>3.0</td>\n",
       "      <td>0.0</td>\n",
       "      <td>1.0</td>\n",
       "      <td>0.0</td>\n",
       "      <td>0.0</td>\n",
       "      <td>0.0</td>\n",
       "      <td>24.0</td>\n",
       "      <td>1</td>\n",
       "    </tr>\n",
       "    <tr>\n",
       "      <td>1</td>\n",
       "      <td>abbated01</td>\n",
       "      <td>10</td>\n",
       "      <td>Ed Abbaticchio</td>\n",
       "      <td>855</td>\n",
       "      <td>3044</td>\n",
       "      <td>355</td>\n",
       "      <td>772</td>\n",
       "      <td>99</td>\n",
       "      <td>43</td>\n",
       "      <td>11</td>\n",
       "      <td>...</td>\n",
       "      <td>0.93</td>\n",
       "      <td>0.0</td>\n",
       "      <td>0.0</td>\n",
       "      <td>0.0</td>\n",
       "      <td>0.0</td>\n",
       "      <td>0.0</td>\n",
       "      <td>0.0</td>\n",
       "      <td>0.0</td>\n",
       "      <td>0.0</td>\n",
       "      <td>0</td>\n",
       "    </tr>\n",
       "    <tr>\n",
       "      <td>2</td>\n",
       "      <td>abreubo01</td>\n",
       "      <td>20</td>\n",
       "      <td>Bobby Abreu</td>\n",
       "      <td>2425</td>\n",
       "      <td>8480</td>\n",
       "      <td>1453</td>\n",
       "      <td>2470</td>\n",
       "      <td>574</td>\n",
       "      <td>59</td>\n",
       "      <td>288</td>\n",
       "      <td>...</td>\n",
       "      <td>0.98</td>\n",
       "      <td>0.0</td>\n",
       "      <td>1.0</td>\n",
       "      <td>0.0</td>\n",
       "      <td>0.0</td>\n",
       "      <td>0.0</td>\n",
       "      <td>0.0</td>\n",
       "      <td>1.0</td>\n",
       "      <td>2.0</td>\n",
       "      <td>0</td>\n",
       "    </tr>\n",
       "    <tr>\n",
       "      <td>3</td>\n",
       "      <td>adairje01</td>\n",
       "      <td>15</td>\n",
       "      <td>Jerry Adair</td>\n",
       "      <td>1165</td>\n",
       "      <td>4019</td>\n",
       "      <td>378</td>\n",
       "      <td>1022</td>\n",
       "      <td>163</td>\n",
       "      <td>19</td>\n",
       "      <td>57</td>\n",
       "      <td>...</td>\n",
       "      <td>0.98</td>\n",
       "      <td>0.0</td>\n",
       "      <td>0.0</td>\n",
       "      <td>0.0</td>\n",
       "      <td>0.0</td>\n",
       "      <td>0.0</td>\n",
       "      <td>0.0</td>\n",
       "      <td>0.0</td>\n",
       "      <td>0.0</td>\n",
       "      <td>0</td>\n",
       "    </tr>\n",
       "    <tr>\n",
       "      <td>4</td>\n",
       "      <td>adamsbo03</td>\n",
       "      <td>15</td>\n",
       "      <td>Bobby Adams</td>\n",
       "      <td>1281</td>\n",
       "      <td>4019</td>\n",
       "      <td>591</td>\n",
       "      <td>1082</td>\n",
       "      <td>188</td>\n",
       "      <td>49</td>\n",
       "      <td>37</td>\n",
       "      <td>...</td>\n",
       "      <td>0.96</td>\n",
       "      <td>0.0</td>\n",
       "      <td>0.0</td>\n",
       "      <td>0.0</td>\n",
       "      <td>0.0</td>\n",
       "      <td>0.0</td>\n",
       "      <td>0.0</td>\n",
       "      <td>0.0</td>\n",
       "      <td>0.0</td>\n",
       "      <td>0</td>\n",
       "    </tr>\n",
       "    <tr>\n",
       "      <td>...</td>\n",
       "      <td>...</td>\n",
       "      <td>...</td>\n",
       "      <td>...</td>\n",
       "      <td>...</td>\n",
       "      <td>...</td>\n",
       "      <td>...</td>\n",
       "      <td>...</td>\n",
       "      <td>...</td>\n",
       "      <td>...</td>\n",
       "      <td>...</td>\n",
       "      <td>...</td>\n",
       "      <td>...</td>\n",
       "      <td>...</td>\n",
       "      <td>...</td>\n",
       "      <td>...</td>\n",
       "      <td>...</td>\n",
       "      <td>...</td>\n",
       "      <td>...</td>\n",
       "      <td>...</td>\n",
       "      <td>...</td>\n",
       "      <td>...</td>\n",
       "    </tr>\n",
       "    <tr>\n",
       "      <td>1616</td>\n",
       "      <td>zernigu01</td>\n",
       "      <td>12</td>\n",
       "      <td>Gus Zernial</td>\n",
       "      <td>1234</td>\n",
       "      <td>4131</td>\n",
       "      <td>572</td>\n",
       "      <td>1093</td>\n",
       "      <td>159</td>\n",
       "      <td>22</td>\n",
       "      <td>237</td>\n",
       "      <td>...</td>\n",
       "      <td>0.97</td>\n",
       "      <td>0.0</td>\n",
       "      <td>0.0</td>\n",
       "      <td>0.0</td>\n",
       "      <td>0.0</td>\n",
       "      <td>0.0</td>\n",
       "      <td>0.0</td>\n",
       "      <td>0.0</td>\n",
       "      <td>1.0</td>\n",
       "      <td>0</td>\n",
       "    </tr>\n",
       "    <tr>\n",
       "      <td>1617</td>\n",
       "      <td>zimmech01</td>\n",
       "      <td>20</td>\n",
       "      <td>Chief Zimmer</td>\n",
       "      <td>1280</td>\n",
       "      <td>4546</td>\n",
       "      <td>617</td>\n",
       "      <td>1225</td>\n",
       "      <td>222</td>\n",
       "      <td>76</td>\n",
       "      <td>26</td>\n",
       "      <td>...</td>\n",
       "      <td>0.95</td>\n",
       "      <td>0.0</td>\n",
       "      <td>0.0</td>\n",
       "      <td>0.0</td>\n",
       "      <td>0.0</td>\n",
       "      <td>0.0</td>\n",
       "      <td>0.0</td>\n",
       "      <td>0.0</td>\n",
       "      <td>0.0</td>\n",
       "      <td>0</td>\n",
       "    </tr>\n",
       "    <tr>\n",
       "      <td>1618</td>\n",
       "      <td>zimmedo01</td>\n",
       "      <td>14</td>\n",
       "      <td>Don Zimmer</td>\n",
       "      <td>1095</td>\n",
       "      <td>3283</td>\n",
       "      <td>353</td>\n",
       "      <td>773</td>\n",
       "      <td>130</td>\n",
       "      <td>22</td>\n",
       "      <td>91</td>\n",
       "      <td>...</td>\n",
       "      <td>0.96</td>\n",
       "      <td>0.0</td>\n",
       "      <td>0.0</td>\n",
       "      <td>0.0</td>\n",
       "      <td>0.0</td>\n",
       "      <td>0.0</td>\n",
       "      <td>0.0</td>\n",
       "      <td>0.0</td>\n",
       "      <td>2.0</td>\n",
       "      <td>0</td>\n",
       "    </tr>\n",
       "    <tr>\n",
       "      <td>1619</td>\n",
       "      <td>zimmehe01</td>\n",
       "      <td>14</td>\n",
       "      <td>Heinie Zimmerman</td>\n",
       "      <td>1456</td>\n",
       "      <td>5304</td>\n",
       "      <td>695</td>\n",
       "      <td>1566</td>\n",
       "      <td>275</td>\n",
       "      <td>105</td>\n",
       "      <td>58</td>\n",
       "      <td>...</td>\n",
       "      <td>0.93</td>\n",
       "      <td>0.0</td>\n",
       "      <td>0.0</td>\n",
       "      <td>0.0</td>\n",
       "      <td>0.0</td>\n",
       "      <td>0.0</td>\n",
       "      <td>0.0</td>\n",
       "      <td>0.0</td>\n",
       "      <td>0.0</td>\n",
       "      <td>0</td>\n",
       "    </tr>\n",
       "    <tr>\n",
       "      <td>1620</td>\n",
       "      <td>ziskri01</td>\n",
       "      <td>13</td>\n",
       "      <td>Richie Zisk</td>\n",
       "      <td>1453</td>\n",
       "      <td>5144</td>\n",
       "      <td>681</td>\n",
       "      <td>1477</td>\n",
       "      <td>245</td>\n",
       "      <td>26</td>\n",
       "      <td>207</td>\n",
       "      <td>...</td>\n",
       "      <td>0.98</td>\n",
       "      <td>0.0</td>\n",
       "      <td>0.0</td>\n",
       "      <td>0.0</td>\n",
       "      <td>0.0</td>\n",
       "      <td>0.0</td>\n",
       "      <td>0.0</td>\n",
       "      <td>0.0</td>\n",
       "      <td>2.0</td>\n",
       "      <td>0</td>\n",
       "    </tr>\n",
       "  </tbody>\n",
       "</table>\n",
       "<p>1621 rows × 37 columns</p>\n",
       "</div>"
      ],
      "text/plain": [
       "       playerID  Seasons          fullName     G     AB     R     H   2B   3B  \\\n",
       "0     aaronha01       23        Hank Aaron  3298  12364  2174  3771  624   98   \n",
       "1     abbated01       10    Ed Abbaticchio   855   3044   355   772   99   43   \n",
       "2     abreubo01       20       Bobby Abreu  2425   8480  1453  2470  574   59   \n",
       "3     adairje01       15       Jerry Adair  1165   4019   378  1022  163   19   \n",
       "4     adamsbo03       15       Bobby Adams  1281   4019   591  1082  188   49   \n",
       "...         ...      ...               ...   ...    ...   ...   ...  ...  ...   \n",
       "1616  zernigu01       12       Gus Zernial  1234   4131   572  1093  159   22   \n",
       "1617  zimmech01       20      Chief Zimmer  1280   4546   617  1225  222   76   \n",
       "1618  zimmedo01       14        Don Zimmer  1095   3283   353   773  130   22   \n",
       "1619  zimmehe01       14  Heinie Zimmerman  1456   5304   695  1566  275  105   \n",
       "1620   ziskri01       13       Richie Zisk  1453   5144   681  1477  245   26   \n",
       "\n",
       "       HR  ...    FP  Cy Young  Gold Glove  Hank Aaron  Most Valuable Player  \\\n",
       "0     755  ...  0.98       0.0         3.0         0.0                   1.0   \n",
       "1      11  ...  0.93       0.0         0.0         0.0                   0.0   \n",
       "2     288  ...  0.98       0.0         1.0         0.0                   0.0   \n",
       "3      57  ...  0.98       0.0         0.0         0.0                   0.0   \n",
       "4      37  ...  0.96       0.0         0.0         0.0                   0.0   \n",
       "...   ...  ...   ...       ...         ...         ...                   ...   \n",
       "1616  237  ...  0.97       0.0         0.0         0.0                   0.0   \n",
       "1617   26  ...  0.95       0.0         0.0         0.0                   0.0   \n",
       "1618   91  ...  0.96       0.0         0.0         0.0                   0.0   \n",
       "1619   58  ...  0.93       0.0         0.0         0.0                   0.0   \n",
       "1620  207  ...  0.98       0.0         0.0         0.0                   0.0   \n",
       "\n",
       "      Rolaids Relief Man Award  Rookie of the Year  Silver Slugger   ASG  \\\n",
       "0                          0.0                 0.0             0.0  24.0   \n",
       "1                          0.0                 0.0             0.0   0.0   \n",
       "2                          0.0                 0.0             1.0   2.0   \n",
       "3                          0.0                 0.0             0.0   0.0   \n",
       "4                          0.0                 0.0             0.0   0.0   \n",
       "...                        ...                 ...             ...   ...   \n",
       "1616                       0.0                 0.0             0.0   1.0   \n",
       "1617                       0.0                 0.0             0.0   0.0   \n",
       "1618                       0.0                 0.0             0.0   2.0   \n",
       "1619                       0.0                 0.0             0.0   0.0   \n",
       "1620                       0.0                 0.0             0.0   2.0   \n",
       "\n",
       "      inducted  \n",
       "0            1  \n",
       "1            0  \n",
       "2            0  \n",
       "3            0  \n",
       "4            0  \n",
       "...        ...  \n",
       "1616         0  \n",
       "1617         0  \n",
       "1618         0  \n",
       "1619         0  \n",
       "1620         0  \n",
       "\n",
       "[1621 rows x 37 columns]"
      ]
     },
     "execution_count": 3,
     "metadata": {},
     "output_type": "execute_result"
    }
   ],
   "source": [
    "#Import eligible_batters from cleaning notebook\n",
    "batters_df = pd.read_csv('eligible_batters.csv')\n",
    "batters_df['inducted'] = batters_df['inducted'].apply(lambda x: 1 if x == 'Y' else 0) # numerical boolean\n",
    "batters_df"
   ]
  },
  {
   "cell_type": "code",
   "execution_count": 4,
   "metadata": {},
   "outputs": [
    {
     "data": {
      "text/plain": [
       "['playerID',\n",
       " 'Seasons',\n",
       " 'fullName',\n",
       " 'G',\n",
       " 'AB',\n",
       " 'R',\n",
       " 'H',\n",
       " '2B',\n",
       " '3B',\n",
       " 'HR',\n",
       " 'RBI',\n",
       " 'SB',\n",
       " 'CS',\n",
       " 'BB',\n",
       " 'SO',\n",
       " 'HBP',\n",
       " 'SF',\n",
       " 'walks',\n",
       " 'BA',\n",
       " 'OBP',\n",
       " '1B',\n",
       " 'SLUG',\n",
       " 'OPS',\n",
       " 'Position',\n",
       " 'PO',\n",
       " 'A',\n",
       " 'E',\n",
       " 'FP',\n",
       " 'Cy Young',\n",
       " 'Gold Glove',\n",
       " 'Hank Aaron',\n",
       " 'Most Valuable Player',\n",
       " 'Rolaids Relief Man Award',\n",
       " 'Rookie of the Year',\n",
       " 'Silver Slugger',\n",
       " 'ASG',\n",
       " 'inducted']"
      ]
     },
     "execution_count": 4,
     "metadata": {},
     "output_type": "execute_result"
    }
   ],
   "source": [
    "# View all the columns in the DataFrame.\n",
    "list(batters_df)"
   ]
  },
  {
   "cell_type": "markdown",
   "metadata": {},
   "source": [
    "One of the first things that I want to consider is how the Steroids Era in baseball, a period from 1993-2002, might impact our analysis. There are several players who on paper would be first ballot Hall of Famers; however, due to steroid use have failed to recieve enough votes. This will have a significant impact on the models in this notebook as some of the best hitters have been held out due to steroid usage. These would be outliers that would skew the results for some of the models and for that reason will be removed. I am also going to remove Shoeless Joe Jackson and Pete Rose from this list as well as they are two of the best players but have been held out due to actions that compromised the integrity of the game."
   ]
  },
  {
   "cell_type": "code",
   "execution_count": 5,
   "metadata": {},
   "outputs": [],
   "source": [
    "# Remove players from the DataFrame.\n",
    "batters_df = batters_df[(batters_df['fullName']!='Barry Bonds') & (batters_df['fullName']!='Rafael Palmeiro')\n",
    "                        & (batters_df['fullName']!='Mark McGwire') & (batters_df['fullName']!='Sammy Sosa') \n",
    "                        & (batters_df['fullName']!='Pete Rose') & (batters_df['fullName']!='Manny Ramirez') \n",
    "                        & (batters_df['fullName']!='Gary Sheffield') & (batters_df['fullName']!='Shoeless Joe Jackson')]"
   ]
  },
  {
   "cell_type": "code",
   "execution_count": 6,
   "metadata": {},
   "outputs": [],
   "source": [
    "# Drop unnecessary columns.\n",
    "df = batters_df.drop(columns=['playerID', 'fullName', 'Position', 'Cy Young', 'Rolaids Relief Man Award'])"
   ]
  },
  {
   "cell_type": "code",
   "execution_count": 7,
   "metadata": {},
   "outputs": [
    {
     "data": {
      "image/png": "[encoded data removed]",
      "text/plain": [
       "<Figure size 1440x720 with 2 Axes>"
      ]
     },
     "metadata": {
      "needs_background": "light"
     },
     "output_type": "display_data"
    }
   ],
   "source": [
    "# Create two graphs, a Distribution and Boxplot comparing OPS across all batters.\n",
    "fig, ax = plt.subplots(nrows=1, ncols=2,  sharex=False, sharey=False, figsize=(20,10))\n",
    "fig.suptitle('OPS', fontsize=20)\n",
    "\n",
    "# Create Distribution Showing OPS across all eligible for the HOF\n",
    "ax[0].title.set_text('Distribution of OPS')\n",
    "variable = df['OPS'].fillna(df['OPS'].mean())\n",
    "breaks = np.quantile(variable, q=np.linspace(0, 1, 11))\n",
    "variable = variable[ (variable > breaks[0]) & (variable < \n",
    "                    breaks[10]) ]\n",
    "sns.distplot(variable, hist=True, kde=True, kde_kws={\"shade\": True}, ax=ax[0])\n",
    "des = df['OPS'].describe()\n",
    "ax[0].axvline(des[\"25%\"], ls='--')\n",
    "ax[0].axvline(des[\"mean\"], ls='--')\n",
    "ax[0].axvline(des[\"75%\"], ls='--')\n",
    "ax[0].grid(True)\n",
    "des = round(des, 2).apply(lambda x: str(x))\n",
    "box = '\\n'.join((\"min: \"+des[\"min\"], \"25%: \"+des[\"25%\"], \"mean: \"+des[\"mean\"], \"75%: \"+des[\"75%\"], \"max: \"+des[\"max\"]))\n",
    "ax[0].text(0.95, 0.95, box, transform=ax[0].transAxes, fontsize=10, va='top', ha=\"right\", bbox=dict(boxstyle='round', facecolor='white', alpha=1))\n",
    "\n",
    "# Create a Boxplot showing Outliers.\n",
    "ax[1].title.set_text('Boxplot Showing Outliers')\n",
    "df.boxplot(column='OPS', ax=ax[1])\n",
    "plt.show()"
   ]
  },
  {
   "cell_type": "markdown",
   "metadata": {},
   "source": [
    "Now I am going to look at a few of the other key metrics and analyze them with our comparative graph function I created earlier. This will show us how those elected to the Hall of Fame compare to those who were not. Keep in mind, that all players in this analysis have played for 10 years or more suggesting that even those not elected have had very successful careers."
   ]
  },
  {
   "cell_type": "code",
   "execution_count": 131,
   "metadata": {},
   "outputs": [
    {
     "data": {
      "image/png": "[encoded data removed]",
      "text/plain": [
       "<Figure size 1440x504 with 3 Axes>"
      ]
     },
     "metadata": {},
     "output_type": "display_data"
    }
   ],
   "source": [
    "# First take a look at OPS.\n",
    "comparative_graph('OPS')"
   ]
  },
  {
   "cell_type": "markdown",
   "metadata": {},
   "source": [
    "OPS is a great measure of a players hitting ability. It is built from both on-base percentage and slugging percentage. A high on-base percentage is a good indicator that a player can hit well for contact and draw a lot of walks, a high slugging percentage indicates that a player can hit for power. When a player has a high OPS it's a representation of their impressive ability to hit for both power and contact. As we can see here players inducted into the Hall of Fame typically have a much significantly higher OPS.\n",
    "\n",
    "One other thing to note that we can see in the bar graph is that a few Hall of Fame players have an OPS of less than .700. We can assume that these are pitchers who have had over 2500 career at bats and should be removed from the DataFrame."
   ]
  },
  {
   "cell_type": "code",
   "execution_count": 125,
   "metadata": {},
   "outputs": [],
   "source": [
    "# Create a pitchers table from players elected to the Hall of Fame with less than a .700 OPS\n",
    "pitchers = df[(df['OPS']<.7) & (df['inducted']==1)].index\n",
    "\n",
    "# Drop the pitchers from the DataFrame.\n",
    "df.drop(pitchers, inplace=True)"
   ]
  },
  {
   "cell_type": "code",
   "execution_count": 132,
   "metadata": {},
   "outputs": [
    {
     "data": {
      "image/png": "[encoded data removed]",
      "text/plain": [
       "<Figure size 1440x504 with 3 Axes>"
      ]
     },
     "metadata": {},
     "output_type": "display_data"
    }
   ],
   "source": [
    "# Now analyze the difference in hits between the two sets of players.\n",
    "comparative_graph('H')"
   ]
  },
  {
   "cell_type": "markdown",
   "metadata": {},
   "source": [
    "Baseball has a ton of fun and interesting metrics but sometimes it pays to look at some of the most basic stats and listen to what they have to say. There are very few players who have over 2500 hits in their career who are not in the Hall of Fame and even less when that number reaches 3000. This is the stat that many others are built around and we can see from the graphs above correlates heavily to HOF induction."
   ]
  },
  {
   "cell_type": "code",
   "execution_count": 133,
   "metadata": {},
   "outputs": [
    {
     "data": {
      "image/png": "[encoded data removed]",
      "text/plain": [
       "<Figure size 1440x504 with 3 Axes>"
      ]
     },
     "metadata": {},
     "output_type": "display_data"
    }
   ],
   "source": [
    "# Let's see how All-Star appearances can be an indicator.\n",
    "comparative_graph('ASG')"
   ]
  },
  {
   "cell_type": "markdown",
   "metadata": {},
   "source": [
    "Hall of Fame induction is a measure of the greatest players over the course of a career, All-Star game appearances are the same measurement for each season. Although All-Stars are voted on 2/3rds of the way through the season it's reasonable to assume that this level of play is applicable in most instances throughout the entire season."
   ]
  },
  {
   "cell_type": "code",
   "execution_count": 134,
   "metadata": {},
   "outputs": [
    {
     "data": {
      "image/png": "[encoded data removed]",
      "text/plain": [
       "<Figure size 1440x504 with 3 Axes>"
      ]
     },
     "metadata": {},
     "output_type": "display_data"
    }
   ],
   "source": [
    "# Visualize HR between the two sets of batters.\n",
    "comparative_graph('HR')"
   ]
  },
  {
   "cell_type": "markdown",
   "metadata": {},
   "source": [
    "The most exciting play in baseball is a homerun, not only is it exciting but it's important to gain Hall of Fame consideration. We can see when looking at the density graph above that although it's certainly possible to get in without being a power hitter, there are very few players with over 400 homeruns that have not been elected into the Hall of Fame."
   ]
  },
  {
   "cell_type": "code",
   "execution_count": 135,
   "metadata": {},
   "outputs": [
    {
     "data": {
      "image/png": "[encoded data removed]",
      "text/plain": [
       "<Figure size 1440x504 with 3 Axes>"
      ]
     },
     "metadata": {},
     "output_type": "display_data"
    }
   ],
   "source": [
    "# Finally, let's see how RBIs compare.\n",
    "comparative_graph('RBI')"
   ]
  },
  {
   "cell_type": "markdown",
   "metadata": {},
   "source": [
    "Although we have several other features that we could look into, those are the six we are going to stick to at the moment. It's pretty clear from the visualizations above that each of these metrics impact Hall of Fame candidancy to a certain degree, I'll determine later the importance of each feature."
   ]
  },
  {
   "cell_type": "markdown",
   "metadata": {},
   "source": [
    "Now I want to understand which features are highly correlated and could possibly lead to multicollinearity issues in any of the models."
   ]
  },
  {
   "cell_type": "code",
   "execution_count": 14,
   "metadata": {},
   "outputs": [],
   "source": [
    "# Create a heatmap showing the correlation between features.\n",
    "def heatmap(d):\n",
    "    plt.figure(figsize=(20, 10))\n",
    "    heatmap = sns.heatmap(d.corr(), vmin=-1, vmax=1, annot=True)\n",
    "    heatmap.set_title('Correlation Heatmap', fontdict={'fontsize':12}, pad=12);"
   ]
  },
  {
   "cell_type": "code",
   "execution_count": 117,
   "metadata": {},
   "outputs": [
    {
     "data": {
      "image/png": "[encoded data removed]",
      "text/plain": [
       "<Figure size 1440x720 with 2 Axes>"
      ]
     },
     "metadata": {},
     "output_type": "display_data"
    }
   ],
   "source": [
    "heatmap(df)\n",
    "plt.savefig('BattingHM');"
   ]
  },
  {
   "cell_type": "code",
   "execution_count": 16,
   "metadata": {},
   "outputs": [
    {
     "data": {
      "text/html": [
       "<div>\n",
       "<style scoped>\n",
       "    .dataframe tbody tr th:only-of-type {\n",
       "        vertical-align: middle;\n",
       "    }\n",
       "\n",
       "    .dataframe tbody tr th {\n",
       "        vertical-align: top;\n",
       "    }\n",
       "\n",
       "    .dataframe thead th {\n",
       "        text-align: right;\n",
       "    }\n",
       "</style>\n",
       "<table border=\"1\" class=\"dataframe\">\n",
       "  <thead>\n",
       "    <tr style=\"text-align: right;\">\n",
       "      <th></th>\n",
       "      <th>Correlation</th>\n",
       "    </tr>\n",
       "    <tr>\n",
       "      <th>Highly Correlated Pairs</th>\n",
       "      <th></th>\n",
       "    </tr>\n",
       "  </thead>\n",
       "  <tbody>\n",
       "    <tr>\n",
       "      <td>(walks, BB)</td>\n",
       "      <td>0.995084</td>\n",
       "    </tr>\n",
       "    <tr>\n",
       "      <td>(AB, H)</td>\n",
       "      <td>0.980375</td>\n",
       "    </tr>\n",
       "    <tr>\n",
       "      <td>(1B, H)</td>\n",
       "      <td>0.968434</td>\n",
       "    </tr>\n",
       "    <tr>\n",
       "      <td>(G, AB)</td>\n",
       "      <td>0.963961</td>\n",
       "    </tr>\n",
       "    <tr>\n",
       "      <td>(SLUG, OPS)</td>\n",
       "      <td>0.953778</td>\n",
       "    </tr>\n",
       "    <tr>\n",
       "      <td>(1B, AB)</td>\n",
       "      <td>0.946207</td>\n",
       "    </tr>\n",
       "    <tr>\n",
       "      <td>(H, R)</td>\n",
       "      <td>0.940872</td>\n",
       "    </tr>\n",
       "    <tr>\n",
       "      <td>(H, G)</td>\n",
       "      <td>0.930699</td>\n",
       "    </tr>\n",
       "    <tr>\n",
       "      <td>(H, 2B)</td>\n",
       "      <td>0.925563</td>\n",
       "    </tr>\n",
       "    <tr>\n",
       "      <td>(AB, R)</td>\n",
       "      <td>0.919492</td>\n",
       "    </tr>\n",
       "    <tr>\n",
       "      <td>(2B, AB)</td>\n",
       "      <td>0.901762</td>\n",
       "    </tr>\n",
       "    <tr>\n",
       "      <td>(1B, R)</td>\n",
       "      <td>0.891997</td>\n",
       "    </tr>\n",
       "    <tr>\n",
       "      <td>(RBI, 2B)</td>\n",
       "      <td>0.887015</td>\n",
       "    </tr>\n",
       "    <tr>\n",
       "      <td>(1B, G)</td>\n",
       "      <td>0.883114</td>\n",
       "    </tr>\n",
       "    <tr>\n",
       "      <td>(H, RBI)</td>\n",
       "      <td>0.871158</td>\n",
       "    </tr>\n",
       "    <tr>\n",
       "      <td>(G, 2B)</td>\n",
       "      <td>0.869913</td>\n",
       "    </tr>\n",
       "    <tr>\n",
       "      <td>(2B, R)</td>\n",
       "      <td>0.867178</td>\n",
       "    </tr>\n",
       "    <tr>\n",
       "      <td>(AB, RBI)</td>\n",
       "      <td>0.855691</td>\n",
       "    </tr>\n",
       "    <tr>\n",
       "      <td>(G, R)</td>\n",
       "      <td>0.853330</td>\n",
       "    </tr>\n",
       "    <tr>\n",
       "      <td>(RBI, R)</td>\n",
       "      <td>0.847214</td>\n",
       "    </tr>\n",
       "    <tr>\n",
       "      <td>(2B, 1B)</td>\n",
       "      <td>0.832166</td>\n",
       "    </tr>\n",
       "    <tr>\n",
       "      <td>(RBI, G)</td>\n",
       "      <td>0.831684</td>\n",
       "    </tr>\n",
       "    <tr>\n",
       "      <td>(OPS, OBP)</td>\n",
       "      <td>0.827802</td>\n",
       "    </tr>\n",
       "    <tr>\n",
       "      <td>(walks, R)</td>\n",
       "      <td>0.816224</td>\n",
       "    </tr>\n",
       "    <tr>\n",
       "      <td>(HR, SO)</td>\n",
       "      <td>0.802537</td>\n",
       "    </tr>\n",
       "    <tr>\n",
       "      <td>(R, BB)</td>\n",
       "      <td>0.802313</td>\n",
       "    </tr>\n",
       "    <tr>\n",
       "      <td>(RBI, HR)</td>\n",
       "      <td>0.794735</td>\n",
       "    </tr>\n",
       "    <tr>\n",
       "      <td>(SLUG, HR)</td>\n",
       "      <td>0.792044</td>\n",
       "    </tr>\n",
       "    <tr>\n",
       "      <td>(walks, G)</td>\n",
       "      <td>0.782928</td>\n",
       "    </tr>\n",
       "    <tr>\n",
       "      <td>(G, BB)</td>\n",
       "      <td>0.773976</td>\n",
       "    </tr>\n",
       "    <tr>\n",
       "      <td>(Seasons, G)</td>\n",
       "      <td>0.757497</td>\n",
       "    </tr>\n",
       "    <tr>\n",
       "      <td>(AB, walks)</td>\n",
       "      <td>0.751891</td>\n",
       "    </tr>\n",
       "    <tr>\n",
       "      <td>(RBI, 1B)</td>\n",
       "      <td>0.742381</td>\n",
       "    </tr>\n",
       "    <tr>\n",
       "      <td>(walks, RBI)</td>\n",
       "      <td>0.739842</td>\n",
       "    </tr>\n",
       "    <tr>\n",
       "      <td>(H, walks)</td>\n",
       "      <td>0.739694</td>\n",
       "    </tr>\n",
       "    <tr>\n",
       "      <td>(BB, AB)</td>\n",
       "      <td>0.739049</td>\n",
       "    </tr>\n",
       "    <tr>\n",
       "      <td>(BB, RBI)</td>\n",
       "      <td>0.728825</td>\n",
       "    </tr>\n",
       "    <tr>\n",
       "      <td>(OBP, BA)</td>\n",
       "      <td>0.726555</td>\n",
       "    </tr>\n",
       "    <tr>\n",
       "      <td>(BB, H)</td>\n",
       "      <td>0.726490</td>\n",
       "    </tr>\n",
       "    <tr>\n",
       "      <td>(SO, SF)</td>\n",
       "      <td>0.726257</td>\n",
       "    </tr>\n",
       "    <tr>\n",
       "      <td>(2B, walks)</td>\n",
       "      <td>0.721088</td>\n",
       "    </tr>\n",
       "    <tr>\n",
       "      <td>(walks, OBP)</td>\n",
       "      <td>0.718053</td>\n",
       "    </tr>\n",
       "    <tr>\n",
       "      <td>(RBI, SLUG)</td>\n",
       "      <td>0.714349</td>\n",
       "    </tr>\n",
       "    <tr>\n",
       "      <td>(OBP, BB)</td>\n",
       "      <td>0.712307</td>\n",
       "    </tr>\n",
       "    <tr>\n",
       "      <td>(RBI, OPS)</td>\n",
       "      <td>0.706824</td>\n",
       "    </tr>\n",
       "    <tr>\n",
       "      <td>(2B, BB)</td>\n",
       "      <td>0.706715</td>\n",
       "    </tr>\n",
       "    <tr>\n",
       "      <td>(HR, OPS)</td>\n",
       "      <td>0.704701</td>\n",
       "    </tr>\n",
       "  </tbody>\n",
       "</table>\n",
       "</div>"
      ],
      "text/plain": [
       "                         Correlation\n",
       "Highly Correlated Pairs             \n",
       "(walks, BB)                 0.995084\n",
       "(AB, H)                     0.980375\n",
       "(1B, H)                     0.968434\n",
       "(G, AB)                     0.963961\n",
       "(SLUG, OPS)                 0.953778\n",
       "(1B, AB)                    0.946207\n",
       "(H, R)                      0.940872\n",
       "(H, G)                      0.930699\n",
       "(H, 2B)                     0.925563\n",
       "(AB, R)                     0.919492\n",
       "(2B, AB)                    0.901762\n",
       "(1B, R)                     0.891997\n",
       "(RBI, 2B)                   0.887015\n",
       "(1B, G)                     0.883114\n",
       "(H, RBI)                    0.871158\n",
       "(G, 2B)                     0.869913\n",
       "(2B, R)                     0.867178\n",
       "(AB, RBI)                   0.855691\n",
       "(G, R)                      0.853330\n",
       "(RBI, R)                    0.847214\n",
       "(2B, 1B)                    0.832166\n",
       "(RBI, G)                    0.831684\n",
       "(OPS, OBP)                  0.827802\n",
       "(walks, R)                  0.816224\n",
       "(HR, SO)                    0.802537\n",
       "(R, BB)                     0.802313\n",
       "(RBI, HR)                   0.794735\n",
       "(SLUG, HR)                  0.792044\n",
       "(walks, G)                  0.782928\n",
       "(G, BB)                     0.773976\n",
       "(Seasons, G)                0.757497\n",
       "(AB, walks)                 0.751891\n",
       "(RBI, 1B)                   0.742381\n",
       "(walks, RBI)                0.739842\n",
       "(H, walks)                  0.739694\n",
       "(BB, AB)                    0.739049\n",
       "(BB, RBI)                   0.728825\n",
       "(OBP, BA)                   0.726555\n",
       "(BB, H)                     0.726490\n",
       "(SO, SF)                    0.726257\n",
       "(2B, walks)                 0.721088\n",
       "(walks, OBP)                0.718053\n",
       "(RBI, SLUG)                 0.714349\n",
       "(OBP, BB)                   0.712307\n",
       "(RBI, OPS)                  0.706824\n",
       "(2B, BB)                    0.706715\n",
       "(HR, OPS)                   0.704701"
      ]
     },
     "execution_count": 16,
     "metadata": {},
     "output_type": "execute_result"
    }
   ],
   "source": [
    "# Run high_corr function to determine highly correlated features.\n",
    "high_corr(df)"
   ]
  },
  {
   "cell_type": "code",
   "execution_count": 17,
   "metadata": {},
   "outputs": [],
   "source": [
    "# Drop columns that are highly correlated.\n",
    "df = df.drop(columns=['BB', 'AB', '1B', 'SLUG', '2B', '3B', 'CS', 'SF', 'Seasons', 'OBP', 'A', 'E', \n",
    "                      'FP', 'Hank Aaron', 'Rookie of the Year', 'walks', 'G', 'R', 'SO'])"
   ]
  },
  {
   "cell_type": "code",
   "execution_count": 18,
   "metadata": {},
   "outputs": [
    {
     "data": {
      "text/html": [
       "<div>\n",
       "<style scoped>\n",
       "    .dataframe tbody tr th:only-of-type {\n",
       "        vertical-align: middle;\n",
       "    }\n",
       "\n",
       "    .dataframe tbody tr th {\n",
       "        vertical-align: top;\n",
       "    }\n",
       "\n",
       "    .dataframe thead th {\n",
       "        text-align: right;\n",
       "    }\n",
       "</style>\n",
       "<table border=\"1\" class=\"dataframe\">\n",
       "  <thead>\n",
       "    <tr style=\"text-align: right;\">\n",
       "      <th></th>\n",
       "      <th>Correlation</th>\n",
       "    </tr>\n",
       "    <tr>\n",
       "      <th>Highly Correlated Pairs</th>\n",
       "      <th></th>\n",
       "    </tr>\n",
       "  </thead>\n",
       "  <tbody>\n",
       "    <tr>\n",
       "      <td>(RBI, H)</td>\n",
       "      <td>0.871158</td>\n",
       "    </tr>\n",
       "    <tr>\n",
       "      <td>(HR, RBI)</td>\n",
       "      <td>0.794735</td>\n",
       "    </tr>\n",
       "    <tr>\n",
       "      <td>(OPS, RBI)</td>\n",
       "      <td>0.706824</td>\n",
       "    </tr>\n",
       "    <tr>\n",
       "      <td>(HR, OPS)</td>\n",
       "      <td>0.704701</td>\n",
       "    </tr>\n",
       "  </tbody>\n",
       "</table>\n",
       "</div>"
      ],
      "text/plain": [
       "                         Correlation\n",
       "Highly Correlated Pairs             \n",
       "(RBI, H)                    0.871158\n",
       "(HR, RBI)                   0.794735\n",
       "(OPS, RBI)                  0.706824\n",
       "(HR, OPS)                   0.704701"
      ]
     },
     "execution_count": 18,
     "metadata": {},
     "output_type": "execute_result"
    }
   ],
   "source": [
    "high_corr(df)"
   ]
  },
  {
   "cell_type": "code",
   "execution_count": 19,
   "metadata": {},
   "outputs": [
    {
     "data": {
      "text/plain": [
       "Index(['H', 'HR', 'RBI', 'SB', 'HBP', 'BA', 'OPS', 'PO', 'Gold Glove',\n",
       "       'Most Valuable Player', 'Silver Slugger', 'ASG', 'inducted'],\n",
       "      dtype='object')"
      ]
     },
     "execution_count": 19,
     "metadata": {},
     "output_type": "execute_result"
    }
   ],
   "source": [
    "# View remaing columns.\n",
    "df.columns"
   ]
  },
  {
   "cell_type": "markdown",
   "metadata": {},
   "source": [
    "# Models"
   ]
  },
  {
   "cell_type": "markdown",
   "metadata": {},
   "source": [
    "Now I want to start creating a few different models to determine which is best for our data. I am going to first look at what the accuracy of our model would be if it simply classified everyone as a non-inductee. This number should be fairly high as it's am extremely selective process. From there I will build a basic Logisitic Regression model, a KNN model, a SVM model and finally a Decision Tree and Random Forest model."
   ]
  },
  {
   "cell_type": "code",
   "execution_count": 20,
   "metadata": {},
   "outputs": [
    {
     "name": "stdout",
     "output_type": "stream",
     "text": [
      "count    1609.000000\n",
      "mean        0.049099\n",
      "std         0.216142\n",
      "min         0.000000\n",
      "25%         0.000000\n",
      "50%         0.000000\n",
      "75%         0.000000\n",
      "max         1.000000\n",
      "Name: inducted, dtype: float64\n",
      "------------------------------\n",
      "Mean percentage: 4.91\n"
     ]
    }
   ],
   "source": [
    "# Look at the summary statistics for target variable.\n",
    "print(df['inducted'].describe())\n",
    "print('-'*30)\n",
    "\n",
    "# What is the percentage of people who have been inducted from this dataset?\n",
    "print(\"Mean percentage: \" + str(round(np.mean(df['inducted']*100), 3)))"
   ]
  },
  {
   "cell_type": "markdown",
   "metadata": {},
   "source": [
    "As we can see, even if we simply marked everyone as a non-inductee we would still almost have over 95% accuracy. For this project we should hope to see in the range of 97.0% to 98.5% accuracy to deem it successful."
   ]
  },
  {
   "cell_type": "code",
   "execution_count": 21,
   "metadata": {},
   "outputs": [
    {
     "name": "stdout",
     "output_type": "stream",
     "text": [
      "X_train shape: (1126, 12) | X_test shape: (483, 12)\n",
      "y_train mean: 0.05 | y_test mean: 0.05\n",
      "12 features: ['H', 'HR', 'RBI', 'SB', 'HBP', 'BA', 'OPS', 'PO', 'Gold Glove', 'Most Valuable Player', 'Silver Slugger', 'ASG']\n"
     ]
    }
   ],
   "source": [
    "# Split the data\n",
    "y = df['inducted']\n",
    "X = df.drop(columns=['inducted'], axis=1)\n",
    "\n",
    "# Train the data.\n",
    "X_train, X_test, y_train, y_test = train_test_split(X, y, test_size=.30, random_state=42)\n",
    "\n",
    "## print info\n",
    "print(\"X_train shape:\", X_train.shape, \"| X_test shape:\", X_test.shape)\n",
    "print(\"y_train mean:\", round(np.mean(y_train),2), \"| y_test mean:\", round(np.mean(y_test),2))\n",
    "print(X_train.shape[1], \"features:\", X_train.columns.to_list())"
   ]
  },
  {
   "cell_type": "markdown",
   "metadata": {},
   "source": [
    "# Logistic Regression"
   ]
  },
  {
   "cell_type": "markdown",
   "metadata": {},
   "source": [
    "The first model I am going to explore is logisitic regression. The variables are all continuous which works well for logistic regression, it should be expected that this is one of the more accurate models."
   ]
  },
  {
   "cell_type": "code",
   "execution_count": 22,
   "metadata": {},
   "outputs": [],
   "source": [
    "# Instantiate\n",
    "logreg = LogisticRegression(fit_intercept=False, C=1e12, solver='liblinear')\n",
    "\n",
    "# Fit the model to training data\n",
    "model_log = logreg.fit(X_train, y_train)\n",
    "\n",
    "# Predict on test set\n",
    "y_hat_test = logreg.predict(X_test)"
   ]
  },
  {
   "cell_type": "code",
   "execution_count": 23,
   "metadata": {},
   "outputs": [],
   "source": [
    "from sklearn.metrics import roc_curve, auc\n",
    "\n",
    "# Calculate the probability scores of each point in the training set\n",
    "y_train_score = model_log.decision_function(X_train)\n",
    "\n",
    "# Calculate the fpr, tpr, and thresholds for the training set\n",
    "train_fpr, train_tpr, thresholds = roc_curve(y_train, y_train_score)\n",
    "\n",
    "# Calculate the probability scores of each point in the test set\n",
    "y_score = model_log.decision_function(X_test)\n",
    "\n",
    "# Calculate the fpr, tpr, and thresholds for the test set\n",
    "fpr, tpr, thresholds = roc_curve(y_test, y_score)"
   ]
  },
  {
   "cell_type": "code",
   "execution_count": 24,
   "metadata": {},
   "outputs": [
    {
     "name": "stdout",
     "output_type": "stream",
     "text": [
      "AUC: 0.97825311942959\n"
     ]
    },
    {
     "data": {
      "image/png": "[encoded data removed]",
      "text/plain": [
       "<Figure size 720x576 with 1 Axes>"
      ]
     },
     "metadata": {},
     "output_type": "display_data"
    }
   ],
   "source": [
    "# Seaborn's beautiful styling\n",
    "sns.set_style('darkgrid', {'axes.facecolor': '0.9'})\n",
    "\n",
    "# ROC curve for training set\n",
    "plt.figure(figsize=(10, 8))\n",
    "lw = 2\n",
    "plt.plot(train_fpr, train_tpr, color='darkorange',\n",
    "         lw=lw, label='ROC curve')\n",
    "plt.plot([0, 1], [0, 1], color='navy', lw=lw, linestyle='--')\n",
    "plt.xlim([0.0, 1.0])\n",
    "plt.ylim([0.0, 1.05])\n",
    "plt.yticks([i/20.0 for i in range(21)])\n",
    "plt.xticks([i/20.0 for i in range(21)])\n",
    "plt.xlabel('False Positive Rate')\n",
    "plt.ylabel('True Positive Rate')\n",
    "plt.title('Receiver operating characteristic (ROC) Curve for Training Set')\n",
    "plt.legend(loc='lower right')\n",
    "print('AUC: {}'.format(auc(train_fpr, train_tpr)))\n",
    "plt.show()"
   ]
  },
  {
   "cell_type": "code",
   "execution_count": 25,
   "metadata": {},
   "outputs": [
    {
     "data": {
      "text/plain": [
       "0.9760213143872114"
      ]
     },
     "execution_count": 25,
     "metadata": {},
     "output_type": "execute_result"
    }
   ],
   "source": [
    "# Training accuracy score\n",
    "logreg.score(X_train, y_train)"
   ]
  },
  {
   "cell_type": "code",
   "execution_count": 26,
   "metadata": {},
   "outputs": [
    {
     "name": "stdout",
     "output_type": "stream",
     "text": [
      "Test AUC: 0.9082244008714596\n",
      "\n"
     ]
    },
    {
     "data": {
      "image/png": "[encoded data removed]",
      "text/plain": [
       "<Figure size 720x576 with 1 Axes>"
      ]
     },
     "metadata": {},
     "output_type": "display_data"
    }
   ],
   "source": [
    "# ROC curve for test set\n",
    "plt.figure(figsize=(10, 8))\n",
    "lw = 2\n",
    "plt.plot(fpr, tpr, color='darkorange',\n",
    "         lw=lw, label='ROC curve')\n",
    "plt.plot([0, 1], [0, 1], color='navy', lw=lw, linestyle='--')\n",
    "plt.xlim([0.0, 1.0])\n",
    "plt.ylim([0.0, 1.05])\n",
    "plt.yticks([i/20.0 for i in range(21)])\n",
    "plt.xticks([i/20.0 for i in range(21)])\n",
    "plt.xlabel('False Positive Rate')\n",
    "plt.ylabel('True Positive Rate')\n",
    "plt.title('Receiver operating characteristic (ROC) Curve for Test Set')\n",
    "plt.legend(loc='lower right')\n",
    "print('Test AUC: {}'.format(auc(fpr, tpr)))\n",
    "print('')\n",
    "plt.show()"
   ]
  },
  {
   "cell_type": "code",
   "execution_count": 27,
   "metadata": {},
   "outputs": [
    {
     "data": {
      "text/plain": [
       "0.9627329192546584"
      ]
     },
     "execution_count": 27,
     "metadata": {},
     "output_type": "execute_result"
    }
   ],
   "source": [
    "# Testing Accuracy Score\n",
    "logreg.score(X_test, y_test)"
   ]
  },
  {
   "cell_type": "code",
   "execution_count": 28,
   "metadata": {},
   "outputs": [
    {
     "data": {
      "image/png": "[encoded data removed]",
      "text/plain": [
       "<Figure size 576x576 with 2 Axes>"
      ]
     },
     "metadata": {},
     "output_type": "display_data"
    }
   ],
   "source": [
    "# Plot the confusion matrix.\n",
    "plot_cm(logreg)"
   ]
  },
  {
   "cell_type": "markdown",
   "metadata": {},
   "source": [
    "This logisitic regression model improved the performance less than impressively. Although there was over 96% accuracy on the test results, it inaccurately predicted 14 Hall of Famers and only got 10 correct. Additionally, the model misclassified 4 of the non-inductees as Hall of Famers. I am going to see if the model will be improved with the use of SMOTE to balance the classes."
   ]
  },
  {
   "cell_type": "markdown",
   "metadata": {},
   "source": [
    "## Logistic Regression with SMOTE"
   ]
  },
  {
   "cell_type": "code",
   "execution_count": 29,
   "metadata": {},
   "outputs": [
    {
     "name": "stdout",
     "output_type": "stream",
     "text": [
      "0    1071\n",
      "1      55\n",
      "Name: inducted, dtype: int64\n",
      "\n",
      "\n",
      "1    1071\n",
      "0    1071\n",
      "dtype: int64\n"
     ]
    }
   ],
   "source": [
    "# Previous original class distribution\n",
    "print(y_train.value_counts())\n",
    "\n",
    "# Fit SMOTE to training data\n",
    "X_train_resampled, y_train_resampled = SMOTE().fit_resample(X_train, y_train)\n",
    "\n",
    "# Preview synthetic sample class distribution\n",
    "print('\\n')\n",
    "print(pd.Series(y_train_resampled).value_counts()) "
   ]
  },
  {
   "cell_type": "code",
   "execution_count": 30,
   "metadata": {},
   "outputs": [],
   "source": [
    "# Instantiate\n",
    "logreg_smote = LogisticRegression(fit_intercept=False, C=1e12, solver='liblinear')\n",
    "\n",
    "# Fit the model to training data\n",
    "model_log_smote = logreg_smote.fit(X_train_resampled, y_train_resampled)\n",
    "\n",
    "# Predict on test set\n",
    "y_hat_test = logreg_smote.predict(X_test)"
   ]
  },
  {
   "cell_type": "code",
   "execution_count": 31,
   "metadata": {},
   "outputs": [],
   "source": [
    "# Calculate the probability scores of each point in the training set\n",
    "y_train_score = model_log.decision_function(X_train_resampled)\n",
    "\n",
    "# Calculate the fpr, tpr, and thresholds for the training set\n",
    "train_fpr, train_tpr, thresholds = roc_curve(y_train_resampled, y_train_score)\n",
    "\n",
    "# Calculate the probability scores of each point in the test set\n",
    "y_score = model_log_smote.decision_function(X_test)\n",
    "\n",
    "# Calculate the fpr, tpr, and thresholds for the test set\n",
    "fpr, tpr, thresholds = roc_curve(y_test, y_score)"
   ]
  },
  {
   "cell_type": "code",
   "execution_count": 32,
   "metadata": {},
   "outputs": [
    {
     "name": "stdout",
     "output_type": "stream",
     "text": [
      "AUC: 0.9852402834772253\n"
     ]
    },
    {
     "data": {
      "image/png": "[encoded data removed]",
      "text/plain": [
       "<Figure size 720x576 with 1 Axes>"
      ]
     },
     "metadata": {},
     "output_type": "display_data"
    }
   ],
   "source": [
    "# Seaborn's beautiful styling\n",
    "sns.set_style('darkgrid', {'axes.facecolor': '0.9'})\n",
    "\n",
    "# ROC curve for training set\n",
    "plt.figure(figsize=(10, 8))\n",
    "lw = 2\n",
    "plt.plot(train_fpr, train_tpr, color='darkorange',\n",
    "         lw=lw, label='ROC curve')\n",
    "plt.plot([0, 1], [0, 1], color='navy', lw=lw, linestyle='--')\n",
    "plt.xlim([0.0, 1.0])\n",
    "plt.ylim([0.0, 1.05])\n",
    "plt.yticks([i/20.0 for i in range(21)])\n",
    "plt.xticks([i/20.0 for i in range(21)])\n",
    "plt.xlabel('False Positive Rate')\n",
    "plt.ylabel('True Positive Rate')\n",
    "plt.title('Receiver operating characteristic (ROC) Curve for Training Set')\n",
    "plt.legend(loc='lower right')\n",
    "print('AUC: {}'.format(auc(train_fpr, train_tpr)))\n",
    "plt.show()"
   ]
  },
  {
   "cell_type": "code",
   "execution_count": 33,
   "metadata": {},
   "outputs": [
    {
     "data": {
      "text/plain": [
       "0.9509803921568627"
      ]
     },
     "execution_count": 33,
     "metadata": {},
     "output_type": "execute_result"
    }
   ],
   "source": [
    "# Training accuracy score\n",
    "logreg_smote.score(X_train_resampled, y_train_resampled)"
   ]
  },
  {
   "cell_type": "code",
   "execution_count": 34,
   "metadata": {},
   "outputs": [
    {
     "name": "stdout",
     "output_type": "stream",
     "text": [
      "Test AUC: 0.9021423384168483\n",
      "\n"
     ]
    },
    {
     "data": {
      "image/png": "[encoded data removed]",
      "text/plain": [
       "<Figure size 720x576 with 1 Axes>"
      ]
     },
     "metadata": {},
     "output_type": "display_data"
    }
   ],
   "source": [
    "# ROC curve for test set\n",
    "plt.figure(figsize=(10, 8))\n",
    "lw = 2\n",
    "plt.plot(fpr, tpr, color='darkorange',\n",
    "         lw=lw, label='ROC curve')\n",
    "plt.plot([0, 1], [0, 1], color='navy', lw=lw, linestyle='--')\n",
    "plt.xlim([0.0, 1.0])\n",
    "plt.ylim([0.0, 1.05])\n",
    "plt.yticks([i/20.0 for i in range(21)])\n",
    "plt.xticks([i/20.0 for i in range(21)])\n",
    "plt.xlabel('False Positive Rate')\n",
    "plt.ylabel('True Positive Rate')\n",
    "plt.title('Receiver operating characteristic (ROC) Curve for Test Set')\n",
    "plt.legend(loc='lower right')\n",
    "print('Test AUC: {}'.format(auc(fpr, tpr)))\n",
    "print('')\n",
    "plt.show()"
   ]
  },
  {
   "cell_type": "code",
   "execution_count": 35,
   "metadata": {},
   "outputs": [
    {
     "data": {
      "text/plain": [
       "0.937888198757764"
      ]
     },
     "execution_count": 35,
     "metadata": {},
     "output_type": "execute_result"
    }
   ],
   "source": [
    "# Training accuracy score\n",
    "logreg_smote.score(X_test, y_test)"
   ]
  },
  {
   "cell_type": "markdown",
   "metadata": {},
   "source": [
    "That model performed even worse than if I would have just classified every player as a non-inductee. This is a significant decrease from our original model and not a viable option. The next step is tuning the parameters of our original Logistic Regression to try to find a more accurate model."
   ]
  },
  {
   "cell_type": "markdown",
   "metadata": {},
   "source": [
    "## Hyperparameter for Logistic Regression"
   ]
  },
  {
   "cell_type": "code",
   "execution_count": 36,
   "metadata": {},
   "outputs": [
    {
     "name": "stdout",
     "output_type": "stream",
     "text": [
      "Grid Search found the following optimal parameters: \n",
      "C: 100\n",
      "class_weight: None\n",
      "fit_intercept: False\n",
      "max_iter: 10000\n",
      "penalty: 'l2'\n",
      "solver: 'liblinear'\n",
      "\n",
      "Training Accuracy: 97.51%\n",
      "Testing Accuracy: 96.69%\n"
     ]
    }
   ],
   "source": [
    "model = LogisticRegression()\n",
    "\n",
    "log_param_grid = {\n",
    "    'solver': ['newton-cg', 'lbfgs', 'liblinear'],\n",
    "    'penalty': ['l2'],\n",
    "    'C': [100, 10, 1.0, 0.1, 0.01, 1e12],\n",
    "    'class_weight': [None, 'balanced'],\n",
    "    'max_iter': [10000],\n",
    "    'fit_intercept': [False] }\n",
    "\n",
    "# define grid search\n",
    "grid_log = GridSearchCV(model, log_param_grid, scoring='accuracy', cv=5, n_jobs=-1)\n",
    "grid_log.fit(X_train, y_train)\n",
    "\n",
    "best_parameters = grid_log.best_params_\n",
    "\n",
    "print('Grid Search found the following optimal parameters: ')\n",
    "for param_name in sorted(best_parameters.keys()):\n",
    "    print('%s: %r' % (param_name, best_parameters[param_name]))\n",
    "\n",
    "training_preds_log = grid_log.predict(X_train)\n",
    "test_preds_log = grid_log.predict(X_test)\n",
    "training_accuracy_log = accuracy_score(y_train, training_preds_log)\n",
    "test_accuracy_log = accuracy_score(y_test, test_preds_log)\n",
    "\n",
    "print('')\n",
    "print('Training Accuracy: {:.4}%'.format(training_accuracy_log * 100))\n",
    "print('Testing Accuracy: {:.4}%'.format(test_accuracy_log * 100))"
   ]
  },
  {
   "cell_type": "code",
   "execution_count": 37,
   "metadata": {},
   "outputs": [
    {
     "data": {
      "image/png": "[encoded data removed]",
      "text/plain": [
       "<Figure size 576x576 with 2 Axes>"
      ]
     },
     "metadata": {},
     "output_type": "display_data"
    }
   ],
   "source": [
    "plot_cm(grid_log)"
   ]
  },
  {
   "cell_type": "code",
   "execution_count": 38,
   "metadata": {},
   "outputs": [
    {
     "name": "stdout",
     "output_type": "stream",
     "text": [
      "Precision Score: 0.7857142857142857\n",
      "Recall Score: 0.4583333333333333\n",
      "Accuracy Score: 0.9668737060041408\n",
      "F1 Score: 0.5789473684210527\n"
     ]
    }
   ],
   "source": [
    "# View the metrics.\n",
    "print_metrics(y_test, test_preds_log)"
   ]
  },
  {
   "cell_type": "markdown",
   "metadata": {},
   "source": [
    "It did improve from our original model but only slightly. As it stands this is the best model but I hope to be able to greatly improve over these results. One thing to note is that the Logisitic Regression model performed very well for the ptichers and only misclassifed four of the players."
   ]
  },
  {
   "cell_type": "markdown",
   "metadata": {},
   "source": [
    "# K-Nearest Neighbors"
   ]
  },
  {
   "cell_type": "markdown",
   "metadata": {},
   "source": [
    "Although my variables are all continuous and KNN works best for categorical features for arguments sake I am going to create this type of model as well. First I'll start by scaling all of the features as this is necessary in this type of analysis then I'll use the find_best_k function from above to determine the parameters. Finally, using the print_metrics function from above I will identify the precision, recall, accuracy and F1 score for this model."
   ]
  },
  {
   "cell_type": "code",
   "execution_count": 39,
   "metadata": {},
   "outputs": [
    {
     "data": {
      "text/html": [
       "<div>\n",
       "<style scoped>\n",
       "    .dataframe tbody tr th:only-of-type {\n",
       "        vertical-align: middle;\n",
       "    }\n",
       "\n",
       "    .dataframe tbody tr th {\n",
       "        vertical-align: top;\n",
       "    }\n",
       "\n",
       "    .dataframe thead th {\n",
       "        text-align: right;\n",
       "    }\n",
       "</style>\n",
       "<table border=\"1\" class=\"dataframe\">\n",
       "  <thead>\n",
       "    <tr style=\"text-align: right;\">\n",
       "      <th></th>\n",
       "      <th>H</th>\n",
       "      <th>HR</th>\n",
       "      <th>RBI</th>\n",
       "      <th>SB</th>\n",
       "      <th>HBP</th>\n",
       "      <th>BA</th>\n",
       "      <th>OPS</th>\n",
       "      <th>PO</th>\n",
       "      <th>Gold Glove</th>\n",
       "      <th>Most Valuable Player</th>\n",
       "      <th>Silver Slugger</th>\n",
       "      <th>ASG</th>\n",
       "    </tr>\n",
       "  </thead>\n",
       "  <tbody>\n",
       "    <tr>\n",
       "      <td>0</td>\n",
       "      <td>3.461753</td>\n",
       "      <td>3.073200</td>\n",
       "      <td>3.420102</td>\n",
       "      <td>0.371269</td>\n",
       "      <td>0.120191</td>\n",
       "      <td>0.553438</td>\n",
       "      <td>1.230885</td>\n",
       "      <td>1.850033</td>\n",
       "      <td>4.172686</td>\n",
       "      <td>2.478095</td>\n",
       "      <td>-0.262996</td>\n",
       "      <td>5.092102</td>\n",
       "    </tr>\n",
       "    <tr>\n",
       "      <td>1</td>\n",
       "      <td>-1.352122</td>\n",
       "      <td>-0.466555</td>\n",
       "      <td>-1.004395</td>\n",
       "      <td>-0.866120</td>\n",
       "      <td>-0.572380</td>\n",
       "      <td>-1.957079</td>\n",
       "      <td>-0.986854</td>\n",
       "      <td>-0.762698</td>\n",
       "      <td>-0.292303</td>\n",
       "      <td>-0.244183</td>\n",
       "      <td>-0.262996</td>\n",
       "      <td>-0.555943</td>\n",
       "    </tr>\n",
       "    <tr>\n",
       "      <td>2</td>\n",
       "      <td>1.220516</td>\n",
       "      <td>2.167892</td>\n",
       "      <td>1.585905</td>\n",
       "      <td>0.469355</td>\n",
       "      <td>0.749800</td>\n",
       "      <td>0.813146</td>\n",
       "      <td>1.622972</td>\n",
       "      <td>-0.188788</td>\n",
       "      <td>0.345552</td>\n",
       "      <td>-0.244183</td>\n",
       "      <td>1.946959</td>\n",
       "      <td>0.071618</td>\n",
       "    </tr>\n",
       "    <tr>\n",
       "      <td>3</td>\n",
       "      <td>-1.302583</td>\n",
       "      <td>-0.837732</td>\n",
       "      <td>-1.274638</td>\n",
       "      <td>0.514625</td>\n",
       "      <td>-0.729783</td>\n",
       "      <td>-1.221238</td>\n",
       "      <td>-1.513720</td>\n",
       "      <td>-0.831124</td>\n",
       "      <td>-0.292303</td>\n",
       "      <td>-0.244183</td>\n",
       "      <td>-0.262996</td>\n",
       "      <td>-0.242163</td>\n",
       "    </tr>\n",
       "    <tr>\n",
       "      <td>4</td>\n",
       "      <td>0.289515</td>\n",
       "      <td>-0.339812</td>\n",
       "      <td>-0.708279</td>\n",
       "      <td>0.401449</td>\n",
       "      <td>-0.540900</td>\n",
       "      <td>1.462418</td>\n",
       "      <td>0.177153</td>\n",
       "      <td>-0.537618</td>\n",
       "      <td>-0.292303</td>\n",
       "      <td>-0.244183</td>\n",
       "      <td>-0.262996</td>\n",
       "      <td>-0.242163</td>\n",
       "    </tr>\n",
       "  </tbody>\n",
       "</table>\n",
       "</div>"
      ],
      "text/plain": [
       "          H        HR       RBI        SB       HBP        BA       OPS  \\\n",
       "0  3.461753  3.073200  3.420102  0.371269  0.120191  0.553438  1.230885   \n",
       "1 -1.352122 -0.466555 -1.004395 -0.866120 -0.572380 -1.957079 -0.986854   \n",
       "2  1.220516  2.167892  1.585905  0.469355  0.749800  0.813146  1.622972   \n",
       "3 -1.302583 -0.837732 -1.274638  0.514625 -0.729783 -1.221238 -1.513720   \n",
       "4  0.289515 -0.339812 -0.708279  0.401449 -0.540900  1.462418  0.177153   \n",
       "\n",
       "         PO  Gold Glove  Most Valuable Player  Silver Slugger       ASG  \n",
       "0  1.850033    4.172686              2.478095       -0.262996  5.092102  \n",
       "1 -0.762698   -0.292303             -0.244183       -0.262996 -0.555943  \n",
       "2 -0.188788    0.345552             -0.244183        1.946959  0.071618  \n",
       "3 -0.831124   -0.292303             -0.244183       -0.262996 -0.242163  \n",
       "4 -0.537618   -0.292303             -0.244183       -0.262996 -0.242163  "
      ]
     },
     "execution_count": 39,
     "metadata": {},
     "output_type": "execute_result"
    }
   ],
   "source": [
    "# Instantiate StandardScaler\n",
    "scaler = StandardScaler()\n",
    "\n",
    "# Transform the training and test sets\n",
    "scaled_data_train = scaler.fit_transform(X_train)\n",
    "scaled_data_test = scaler.transform(X_test)\n",
    "\n",
    "# Convert into a DataFrame\n",
    "scaled_df_train = pd.DataFrame(scaled_data_train, columns=X.columns)\n",
    "scaled_df_train.head()"
   ]
  },
  {
   "cell_type": "code",
   "execution_count": 40,
   "metadata": {},
   "outputs": [
    {
     "name": "stdout",
     "output_type": "stream",
     "text": [
      "Best Value for k: 1\n",
      "F1-Score: 0.6153846153846154\n"
     ]
    }
   ],
   "source": [
    "find_best_k(scaled_data_train, y_train, scaled_data_test, y_test)"
   ]
  },
  {
   "cell_type": "code",
   "execution_count": 41,
   "metadata": {},
   "outputs": [],
   "source": [
    "# Instantiate KNeighborsClassifier\n",
    "clf_knn = KNeighborsClassifier(n_neighbors=1)\n",
    "\n",
    "# Fit the classifier\n",
    "clf_knn.fit(scaled_data_train, y_train)\n",
    "\n",
    "# Predict on the test set\n",
    "test_preds = clf_knn.predict(scaled_data_test)"
   ]
  },
  {
   "cell_type": "code",
   "execution_count": 42,
   "metadata": {},
   "outputs": [
    {
     "name": "stdout",
     "output_type": "stream",
     "text": [
      "Precision Score: 0.8\n",
      "Recall Score: 0.5\n",
      "Accuracy Score: 0.968944099378882\n",
      "F1 Score: 0.6153846153846154\n"
     ]
    }
   ],
   "source": [
    "print_metrics(y_test, test_preds)"
   ]
  },
  {
   "cell_type": "markdown",
   "metadata": {},
   "source": [
    "As I assumed earlier, this model did not work very well. The accuracy score and precision score is relatively high but a low recall suggest that there are a lot of false negatives which in this case means Hall of Famers that were classified as not. We saw earlied that our accuracy would be just above 95% if we classifed every player as a non-inductee, this model did slightly better but not nearly as well as our logistic regression model."
   ]
  },
  {
   "cell_type": "markdown",
   "metadata": {},
   "source": [
    "## KNN with SMOTE"
   ]
  },
  {
   "cell_type": "markdown",
   "metadata": {},
   "source": [
    "I am going to see if SMOTE will have a positive impact on the KNN model."
   ]
  },
  {
   "cell_type": "code",
   "execution_count": 43,
   "metadata": {},
   "outputs": [
    {
     "data": {
      "text/html": [
       "<div>\n",
       "<style scoped>\n",
       "    .dataframe tbody tr th:only-of-type {\n",
       "        vertical-align: middle;\n",
       "    }\n",
       "\n",
       "    .dataframe tbody tr th {\n",
       "        vertical-align: top;\n",
       "    }\n",
       "\n",
       "    .dataframe thead th {\n",
       "        text-align: right;\n",
       "    }\n",
       "</style>\n",
       "<table border=\"1\" class=\"dataframe\">\n",
       "  <thead>\n",
       "    <tr style=\"text-align: right;\">\n",
       "      <th></th>\n",
       "      <th>H</th>\n",
       "      <th>HR</th>\n",
       "      <th>RBI</th>\n",
       "      <th>SB</th>\n",
       "      <th>HBP</th>\n",
       "      <th>BA</th>\n",
       "      <th>OPS</th>\n",
       "      <th>PO</th>\n",
       "      <th>Gold Glove</th>\n",
       "      <th>Most Valuable Player</th>\n",
       "      <th>Silver Slugger</th>\n",
       "      <th>ASG</th>\n",
       "    </tr>\n",
       "  </thead>\n",
       "  <tbody>\n",
       "    <tr>\n",
       "      <td>0</td>\n",
       "      <td>1.701329</td>\n",
       "      <td>1.231896</td>\n",
       "      <td>1.493466</td>\n",
       "      <td>0.115678</td>\n",
       "      <td>-0.205311</td>\n",
       "      <td>-0.022480</td>\n",
       "      <td>0.350578</td>\n",
       "      <td>1.153525</td>\n",
       "      <td>1.886373</td>\n",
       "      <td>0.678309</td>\n",
       "      <td>-0.566279</td>\n",
       "      <td>2.090933</td>\n",
       "    </tr>\n",
       "    <tr>\n",
       "      <td>1</td>\n",
       "      <td>-1.692324</td>\n",
       "      <td>-0.964628</td>\n",
       "      <td>-1.423078</td>\n",
       "      <td>-0.922679</td>\n",
       "      <td>-0.777482</td>\n",
       "      <td>-2.228307</td>\n",
       "      <td>-1.436986</td>\n",
       "      <td>-0.994873</td>\n",
       "      <td>-0.532902</td>\n",
       "      <td>-0.689388</td>\n",
       "      <td>-0.566279</td>\n",
       "      <td>-0.973033</td>\n",
       "    </tr>\n",
       "    <tr>\n",
       "      <td>2</td>\n",
       "      <td>0.121317</td>\n",
       "      <td>0.670125</td>\n",
       "      <td>0.284398</td>\n",
       "      <td>0.197987</td>\n",
       "      <td>0.314844</td>\n",
       "      <td>0.205709</td>\n",
       "      <td>0.666611</td>\n",
       "      <td>-0.522958</td>\n",
       "      <td>-0.187291</td>\n",
       "      <td>-0.689388</td>\n",
       "      <td>0.524483</td>\n",
       "      <td>-0.632592</td>\n",
       "    </tr>\n",
       "    <tr>\n",
       "      <td>3</td>\n",
       "      <td>-1.657399</td>\n",
       "      <td>-1.194954</td>\n",
       "      <td>-1.601216</td>\n",
       "      <td>0.235976</td>\n",
       "      <td>-0.907521</td>\n",
       "      <td>-1.581771</td>\n",
       "      <td>-1.861656</td>\n",
       "      <td>-1.051139</td>\n",
       "      <td>-0.532902</td>\n",
       "      <td>-0.689388</td>\n",
       "      <td>-0.566279</td>\n",
       "      <td>-0.802813</td>\n",
       "    </tr>\n",
       "    <tr>\n",
       "      <td>4</td>\n",
       "      <td>-0.535013</td>\n",
       "      <td>-0.885980</td>\n",
       "      <td>-1.227884</td>\n",
       "      <td>0.141004</td>\n",
       "      <td>-0.751474</td>\n",
       "      <td>0.776182</td>\n",
       "      <td>-0.498762</td>\n",
       "      <td>-0.809794</td>\n",
       "      <td>-0.532902</td>\n",
       "      <td>-0.689388</td>\n",
       "      <td>-0.566279</td>\n",
       "      <td>-0.802813</td>\n",
       "    </tr>\n",
       "  </tbody>\n",
       "</table>\n",
       "</div>"
      ],
      "text/plain": [
       "          H        HR       RBI        SB       HBP        BA       OPS  \\\n",
       "0  1.701329  1.231896  1.493466  0.115678 -0.205311 -0.022480  0.350578   \n",
       "1 -1.692324 -0.964628 -1.423078 -0.922679 -0.777482 -2.228307 -1.436986   \n",
       "2  0.121317  0.670125  0.284398  0.197987  0.314844  0.205709  0.666611   \n",
       "3 -1.657399 -1.194954 -1.601216  0.235976 -0.907521 -1.581771 -1.861656   \n",
       "4 -0.535013 -0.885980 -1.227884  0.141004 -0.751474  0.776182 -0.498762   \n",
       "\n",
       "         PO  Gold Glove  Most Valuable Player  Silver Slugger       ASG  \n",
       "0  1.153525    1.886373              0.678309       -0.566279  2.090933  \n",
       "1 -0.994873   -0.532902             -0.689388       -0.566279 -0.973033  \n",
       "2 -0.522958   -0.187291             -0.689388        0.524483 -0.632592  \n",
       "3 -1.051139   -0.532902             -0.689388       -0.566279 -0.802813  \n",
       "4 -0.809794   -0.532902             -0.689388       -0.566279 -0.802813  "
      ]
     },
     "execution_count": 43,
     "metadata": {},
     "output_type": "execute_result"
    }
   ],
   "source": [
    "# Transform the training and test sets\n",
    "scaled_data_train = scaler.fit_transform(X_train_resampled)\n",
    "scaled_data_test = scaler.transform(X_test)\n",
    "\n",
    "# Convert into a DataFrame\n",
    "scaled_df_train = pd.DataFrame(scaled_data_train, columns=X.columns)\n",
    "scaled_df_train.head()"
   ]
  },
  {
   "cell_type": "code",
   "execution_count": 44,
   "metadata": {},
   "outputs": [
    {
     "name": "stdout",
     "output_type": "stream",
     "text": [
      "Best Value for k: 3\n",
      "F1-Score: 0.631578947368421\n"
     ]
    }
   ],
   "source": [
    "find_best_k(scaled_data_train, y_train_resampled, scaled_data_test, y_test)"
   ]
  },
  {
   "cell_type": "code",
   "execution_count": 45,
   "metadata": {},
   "outputs": [],
   "source": [
    "# Instantiate KNeighborsClassifier\n",
    "clf_knn_smote = KNeighborsClassifier(n_neighbors=3)\n",
    "\n",
    "# Fit the classifier\n",
    "clf_knn_smote.fit(scaled_data_train, y_train_resampled)\n",
    "\n",
    "# Predict on the test set\n",
    "test_preds = clf_knn_smote.predict(scaled_data_test)"
   ]
  },
  {
   "cell_type": "code",
   "execution_count": 46,
   "metadata": {},
   "outputs": [
    {
     "name": "stdout",
     "output_type": "stream",
     "text": [
      "Precision Score: 0.5454545454545454\n",
      "Recall Score: 0.75\n",
      "Accuracy Score: 0.9565217391304348\n",
      "F1 Score: 0.631578947368421\n"
     ]
    }
   ],
   "source": [
    "print_metrics(y_test, test_preds)"
   ]
  },
  {
   "cell_type": "markdown",
   "metadata": {},
   "source": [
    "Unfortunately, this did not perform well either. This time we have a low precision score which simply suggests the opposite, a high number of non-inductees classified as Hall of Famers. It was a good attempt, but KNN is not the right model for this dataset."
   ]
  },
  {
   "cell_type": "markdown",
   "metadata": {},
   "source": [
    "# Support Vector Machines"
   ]
  },
  {
   "cell_type": "markdown",
   "metadata": {},
   "source": [
    "Another model type that would be useful to test is support vector machines. I will compare a basic SVM to one where the data is standarized to see which offers better results. Additionally, there are a few hyperparameters, kernel perhaps being the most important, to test."
   ]
  },
  {
   "cell_type": "code",
   "execution_count": 47,
   "metadata": {},
   "outputs": [],
   "source": [
    "# Create a SVM model where we can test different kernels.\n",
    "def svm(k):    \n",
    "    base_svc = SVC(kernel=k)\n",
    "\n",
    "    base_svc.fit(X_train, y_train)\n",
    "    svc_prediction_train = base_svc.predict(X_train)\n",
    "    svc_prediction_test = base_svc.predict(X_test)\n",
    "\n",
    "    print('Training Accuracy Score:')\n",
    "    print(accuracy_score(y_train, svc_prediction_train))\n",
    "\n",
    "    print('Testing Accuracy Score:')\n",
    "    print(accuracy_score(y_test, svc_prediction_test))\n",
    "    print('-'*30)"
   ]
  },
  {
   "cell_type": "code",
   "execution_count": 48,
   "metadata": {},
   "outputs": [],
   "source": [
    "# Standardize the data\n",
    "std = StandardScaler()\n",
    "X_train_transformed = std.fit_transform(X_train)\n",
    "X_test_transformed = std.transform(X_test)"
   ]
  },
  {
   "cell_type": "code",
   "execution_count": 49,
   "metadata": {},
   "outputs": [],
   "source": [
    "def svm_tran(k):    \n",
    "    base_svc = SVC(kernel=k)\n",
    "\n",
    "    base_svc.fit(X_train_transformed, y_train)\n",
    "    svc_prediction_train = base_svc.predict(X_train_transformed)\n",
    "    svc_prediction_test = base_svc.predict(X_test_transformed)\n",
    "\n",
    "    print('Training Accuracy Score:')\n",
    "    print(accuracy_score(y_train, svc_prediction_train))\n",
    "\n",
    "    print('Testing Accuracy Score:')\n",
    "    print(accuracy_score(y_test, svc_prediction_test))\n",
    "    print('-'*30)"
   ]
  },
  {
   "cell_type": "code",
   "execution_count": 50,
   "metadata": {},
   "outputs": [
    {
     "name": "stdout",
     "output_type": "stream",
     "text": [
      "Training Accuracy Score:\n",
      "0.9564831261101243\n",
      "Testing Accuracy Score:\n",
      "0.9565217391304348\n",
      "------------------------------\n",
      "Training Accuracy Score:\n",
      "0.9928952042628775\n",
      "Testing Accuracy Score:\n",
      "0.9710144927536232\n",
      "------------------------------\n"
     ]
    }
   ],
   "source": [
    "# Compare SVM and SVM_tran for kernel equal to rbf.\n",
    "svm('rbf')\n",
    "svm_tran('rbf')"
   ]
  },
  {
   "cell_type": "code",
   "execution_count": 51,
   "metadata": {},
   "outputs": [
    {
     "name": "stdout",
     "output_type": "stream",
     "text": [
      "Training Accuracy Score:\n",
      "0.9715808170515098\n",
      "Testing Accuracy Score:\n",
      "0.9710144927536232\n",
      "------------------------------\n",
      "Training Accuracy Score:\n",
      "0.9786856127886323\n",
      "Testing Accuracy Score:\n",
      "0.979296066252588\n",
      "------------------------------\n"
     ]
    }
   ],
   "source": [
    "# Compare SVM and SVM_tran for kernel equal to linear.\n",
    "svm('linear')\n",
    "svm_tran('linear')"
   ]
  },
  {
   "cell_type": "code",
   "execution_count": 52,
   "metadata": {},
   "outputs": [
    {
     "name": "stdout",
     "output_type": "stream",
     "text": [
      "Training Accuracy Score:\n",
      "0.9511545293072824\n",
      "Testing Accuracy Score:\n",
      "0.9503105590062112\n",
      "------------------------------\n",
      "Training Accuracy Score:\n",
      "0.9307282415630551\n",
      "Testing Accuracy Score:\n",
      "0.9316770186335404\n",
      "------------------------------\n"
     ]
    }
   ],
   "source": [
    "# Compare SVM and SVM_tran for kernel equal to sigmoid.\n",
    "svm('sigmoid')\n",
    "svm_tran('sigmoid')"
   ]
  },
  {
   "cell_type": "markdown",
   "metadata": {},
   "source": [
    "We will replicate the base SVM adding degree as an input as is necessary for testing the polynomial kernel."
   ]
  },
  {
   "cell_type": "code",
   "execution_count": 53,
   "metadata": {},
   "outputs": [
    {
     "name": "stdout",
     "output_type": "stream",
     "text": [
      "Training Accuracy Score:\n",
      "0.9511545293072824\n",
      "Testing Accuracy Score:\n",
      "0.9503105590062112\n",
      "------------------------------\n"
     ]
    }
   ],
   "source": [
    "base_svc = SVC(kernel='poly', degree=1)\n",
    "\n",
    "base_svc.fit(X_train, y_train)\n",
    "svc_prediction_train = base_svc.predict(X_train)\n",
    "svc_prediction_test = base_svc.predict(X_test)\n",
    "\n",
    "print('Training Accuracy Score:')\n",
    "print(accuracy_score(y_train, svc_prediction_train))\n",
    "\n",
    "print('Testing Accuracy Score:')\n",
    "print(accuracy_score(y_test, svc_prediction_test))\n",
    "print('-'*30)"
   ]
  },
  {
   "cell_type": "code",
   "execution_count": 54,
   "metadata": {},
   "outputs": [
    {
     "name": "stdout",
     "output_type": "stream",
     "text": [
      "Training Accuracy Score:\n",
      "0.9769094138543517\n",
      "Testing Accuracy Score:\n",
      "0.9503105590062112\n",
      "------------------------------\n"
     ]
    }
   ],
   "source": [
    "base_svc1 = SVC(kernel='poly', degree=1)\n",
    "\n",
    "base_svc1.fit(X_train_transformed, y_train)\n",
    "svc_prediction_train1 = base_svc1.predict(X_train_transformed)\n",
    "svc_prediction_test1 = base_svc.predict(X_test_transformed)\n",
    "\n",
    "print('Training Accuracy Score:')\n",
    "print(accuracy_score(y_train, svc_prediction_train1))\n",
    "\n",
    "print('Testing Accuracy Score:')\n",
    "print(accuracy_score(y_test, svc_prediction_test1))\n",
    "print('-'*30)"
   ]
  },
  {
   "cell_type": "code",
   "execution_count": 55,
   "metadata": {},
   "outputs": [
    {
     "data": {
      "text/plain": [
       "<sklearn.metrics._plot.confusion_matrix.ConfusionMatrixDisplay at 0x7fda98ec6eb8>"
      ]
     },
     "execution_count": 55,
     "metadata": {},
     "output_type": "execute_result"
    },
    {
     "data": {
      "image/png": "[encoded data removed]",
      "text/plain": [
       "<Figure size 576x576 with 2 Axes>"
      ]
     },
     "metadata": {},
     "output_type": "display_data"
    }
   ],
   "source": [
    "base_svc = SVC(kernel='linear')\n",
    "base_svc.fit(X_train_transformed, y_train)\n",
    "base_svc_training_preds = base_svc.predict(X_train_transformed)\n",
    "base_svc_testing_preds = base_svc.predict(X_test_transformed)\n",
    "fig, ax = plt.subplots(figsize=(8, 8))\n",
    "plt.grid(False)\n",
    "plot_confusion_matrix(base_svc, X_test_transformed, y_test, cmap='Greens', ax=ax)"
   ]
  },
  {
   "cell_type": "code",
   "execution_count": 56,
   "metadata": {},
   "outputs": [
    {
     "name": "stdout",
     "output_type": "stream",
     "text": [
      "Precision Score: 0.8888888888888888\n",
      "Recall Score: 0.6666666666666666\n",
      "Accuracy Score: 0.979296066252588\n",
      "F1 Score: 0.761904761904762\n"
     ]
    }
   ],
   "source": [
    "print_metrics(y_test, base_svc_testing_preds)"
   ]
  },
  {
   "cell_type": "markdown",
   "metadata": {},
   "source": [
    "This model performed very well in comparison to our other models to this point. It classified all but 10 of the players correctly. Additionally, it classified 67% of the Hall of Famers correctly and only misclassified 2 of the non-inductees. I am going to tune the hyperparameters to see if this model can be improved even further."
   ]
  },
  {
   "cell_type": "markdown",
   "metadata": {},
   "source": [
    "## Hyperparameter for SVM"
   ]
  },
  {
   "cell_type": "markdown",
   "metadata": {},
   "source": [
    "Here I will utilize GridSearchCV to find the optimal hyperparameters and try to improve on our exisiting model."
   ]
  },
  {
   "cell_type": "code",
   "execution_count": 57,
   "metadata": {},
   "outputs": [
    {
     "name": "stdout",
     "output_type": "stream",
     "text": [
      "Grid Search found the following optimal parameters: \n",
      "C: 0.01\n",
      "gamma: 0.001\n",
      "kernel: 'linear'\n",
      "\n",
      "Training Accuracy: 97.42%\n",
      "Testing Accuracy: 97.1%\n"
     ]
    }
   ],
   "source": [
    "model = SVC()\n",
    "kernel = ['linear']\n",
    "C = [.0001, .001, .01, 1]\n",
    "gamma = [.001, .01, 1]\n",
    "grid = dict(kernel=kernel,C=C,gamma=gamma)\n",
    "grid_svc = GridSearchCV(estimator=model, param_grid=grid, scoring='accuracy', cv=5, n_jobs=-1)\n",
    "grid_svc.fit(X_train_transformed, y_train)\n",
    "\n",
    "best_parameters = grid_svc.best_params_\n",
    "\n",
    "print('Grid Search found the following optimal parameters: ')\n",
    "for param_name in sorted(best_parameters.keys()):\n",
    "    print('%s: %r' % (param_name, best_parameters[param_name]))\n",
    "\n",
    "training_preds_svc = grid_svc.predict(X_train_transformed)\n",
    "test_preds_svc = grid_svc.predict(X_test_transformed)\n",
    "training_accuracy = accuracy_score(y_train, training_preds_svc)\n",
    "test_accuracy = accuracy_score(y_test, test_preds_svc)\n",
    "\n",
    "print('')\n",
    "print('Training Accuracy: {:.4}%'.format(training_accuracy * 100))\n",
    "print('Testing Accuracy: {:.4}%'.format(test_accuracy * 100))"
   ]
  },
  {
   "cell_type": "code",
   "execution_count": 58,
   "metadata": {},
   "outputs": [
    {
     "name": "stdout",
     "output_type": "stream",
     "text": [
      "[[458   1]\n",
      " [ 13  11]]\n",
      "              precision    recall  f1-score   support\n",
      "\n",
      "           0       0.97      1.00      0.98       459\n",
      "           1       0.92      0.46      0.61        24\n",
      "\n",
      "    accuracy                           0.97       483\n",
      "   macro avg       0.94      0.73      0.80       483\n",
      "weighted avg       0.97      0.97      0.97       483\n",
      "\n"
     ]
    }
   ],
   "source": [
    "# Confusion matrix and classification report\n",
    "print(confusion_matrix(y_test, test_preds_svc))\n",
    "print(classification_report(y_test, test_preds_svc))"
   ]
  },
  {
   "cell_type": "markdown",
   "metadata": {},
   "source": [
    "Unfortunately, this model did not perform as well and the scaled SVM version of the model with the base parameters is still the best option."
   ]
  },
  {
   "cell_type": "markdown",
   "metadata": {},
   "source": [
    "# Decision Trees"
   ]
  },
  {
   "cell_type": "markdown",
   "metadata": {},
   "source": [
    "Now that I have built a few models, some with great success and others that have been slightly lacking I want to look to see if any type of Tree model could improve on the accuracy. Since all of our features are continuous, there is a good chance that the previous models will outperform the following but it'll be interesting to compare the results."
   ]
  },
  {
   "cell_type": "code",
   "execution_count": 59,
   "metadata": {},
   "outputs": [
    {
     "data": {
      "text/plain": [
       "DecisionTreeClassifier(ccp_alpha=0.0, class_weight=None, criterion='gini',\n",
       "                       max_depth=5, max_features=None, max_leaf_nodes=None,\n",
       "                       min_impurity_decrease=0.0, min_impurity_split=None,\n",
       "                       min_samples_leaf=1, min_samples_split=2,\n",
       "                       min_weight_fraction_leaf=0.0, presort='deprecated',\n",
       "                       random_state=None, splitter='best')"
      ]
     },
     "execution_count": 59,
     "metadata": {},
     "output_type": "execute_result"
    }
   ],
   "source": [
    "# Instantiate and fit a DecisionTreeClassifier\n",
    "tree_clf = DecisionTreeClassifier(criterion='gini', max_depth=5)\n",
    "tree_clf.fit(X_train, y_train)"
   ]
  },
  {
   "cell_type": "code",
   "execution_count": 60,
   "metadata": {},
   "outputs": [
    {
     "name": "stdout",
     "output_type": "stream",
     "text": [
      "[[454   5]\n",
      " [ 10  14]]\n",
      "              precision    recall  f1-score   support\n",
      "\n",
      "           0       0.98      0.99      0.98       459\n",
      "           1       0.74      0.58      0.65        24\n",
      "\n",
      "    accuracy                           0.97       483\n",
      "   macro avg       0.86      0.79      0.82       483\n",
      "weighted avg       0.97      0.97      0.97       483\n",
      "\n"
     ]
    }
   ],
   "source": [
    "# Test set predictions\n",
    "dt_pred = tree_clf.predict(X_test)\n",
    "\n",
    "# Confusion matrix and classification report\n",
    "print(confusion_matrix(y_test, dt_pred))\n",
    "print(classification_report(y_test, dt_pred))"
   ]
  },
  {
   "cell_type": "code",
   "execution_count": 61,
   "metadata": {},
   "outputs": [
    {
     "data": {
      "text/plain": [
       "0.9937833037300178"
      ]
     },
     "execution_count": 61,
     "metadata": {},
     "output_type": "execute_result"
    }
   ],
   "source": [
    "tree_clf.score(X_train, y_train)"
   ]
  },
  {
   "cell_type": "code",
   "execution_count": 62,
   "metadata": {},
   "outputs": [
    {
     "data": {
      "text/plain": [
       "0.968944099378882"
      ]
     },
     "execution_count": 62,
     "metadata": {},
     "output_type": "execute_result"
    }
   ],
   "source": [
    "tree_clf.score(X_test, y_test)"
   ]
  },
  {
   "cell_type": "code",
   "execution_count": 63,
   "metadata": {},
   "outputs": [
    {
     "data": {
      "image/png": "[encoded data removed]",
      "text/plain": [
       "<Figure size 576x576 with 2 Axes>"
      ]
     },
     "metadata": {},
     "output_type": "display_data"
    }
   ],
   "source": [
    "plot_cm(tree_clf)"
   ]
  },
  {
   "cell_type": "code",
   "execution_count": 64,
   "metadata": {},
   "outputs": [
    {
     "name": "stdout",
     "output_type": "stream",
     "text": [
      "Precision Score: 0.7368421052631579\n",
      "Recall Score: 0.5833333333333334\n",
      "Accuracy Score: 0.968944099378882\n",
      "F1 Score: 0.6511627906976745\n"
     ]
    }
   ],
   "source": [
    "print_metrics(y_test, dt_pred)"
   ]
  },
  {
   "cell_type": "markdown",
   "metadata": {},
   "source": [
    "Although the accuracy score of this model is slightly down from the others, it did a fairly good job classifying the Hall of Famers. There were more non-inductee misclassifications than usual which is the reason for the lower accuracy score. Keeping with the "
   ]
  },
  {
   "cell_type": "markdown",
   "metadata": {},
   "source": [
    "## Decision Tree with SMOTE"
   ]
  },
  {
   "cell_type": "code",
   "execution_count": 65,
   "metadata": {},
   "outputs": [
    {
     "data": {
      "text/plain": [
       "DecisionTreeClassifier(ccp_alpha=0.0, class_weight=None, criterion='gini',\n",
       "                       max_depth=5, max_features=None, max_leaf_nodes=None,\n",
       "                       min_impurity_decrease=0.0, min_impurity_split=None,\n",
       "                       min_samples_leaf=1, min_samples_split=2,\n",
       "                       min_weight_fraction_leaf=0.0, presort='deprecated',\n",
       "                       random_state=None, splitter='best')"
      ]
     },
     "execution_count": 65,
     "metadata": {},
     "output_type": "execute_result"
    }
   ],
   "source": [
    "smote_tclf = DecisionTreeClassifier(criterion='gini', max_depth=5)\n",
    "smote_tclf.fit(X_train_resampled, y_train_resampled)"
   ]
  },
  {
   "cell_type": "code",
   "execution_count": 66,
   "metadata": {},
   "outputs": [
    {
     "name": "stdout",
     "output_type": "stream",
     "text": [
      "[[449  10]\n",
      " [  8  16]]\n",
      "              precision    recall  f1-score   support\n",
      "\n",
      "           0       0.98      0.98      0.98       459\n",
      "           1       0.62      0.67      0.64        24\n",
      "\n",
      "    accuracy                           0.96       483\n",
      "   macro avg       0.80      0.82      0.81       483\n",
      "weighted avg       0.96      0.96      0.96       483\n",
      "\n"
     ]
    }
   ],
   "source": [
    "# Test set predictions\n",
    "smote_tpred = smote_tclf.predict(X_test)\n",
    "\n",
    "# Confusion matrix and classification report\n",
    "print(confusion_matrix(y_test, smote_tpred))\n",
    "print(classification_report(y_test, smote_tpred))"
   ]
  },
  {
   "cell_type": "code",
   "execution_count": 67,
   "metadata": {},
   "outputs": [
    {
     "data": {
      "text/plain": [
       "0.9883286647992531"
      ]
     },
     "execution_count": 67,
     "metadata": {},
     "output_type": "execute_result"
    }
   ],
   "source": [
    "smote_tclf.score(X_train_resampled, y_train_resampled)"
   ]
  },
  {
   "cell_type": "code",
   "execution_count": 68,
   "metadata": {},
   "outputs": [
    {
     "data": {
      "text/plain": [
       "0.9627329192546584"
      ]
     },
     "execution_count": 68,
     "metadata": {},
     "output_type": "execute_result"
    }
   ],
   "source": [
    "smote_tclf.score(X_test, y_test)"
   ]
  },
  {
   "cell_type": "markdown",
   "metadata": {},
   "source": [
    "As seems to be the theme with SMOTE, it has not increse the accuracy of the model."
   ]
  },
  {
   "cell_type": "markdown",
   "metadata": {},
   "source": [
    "## Hyperparameter"
   ]
  },
  {
   "cell_type": "code",
   "execution_count": 69,
   "metadata": {},
   "outputs": [
    {
     "name": "stdout",
     "output_type": "stream",
     "text": [
      "Grid Search found the following optimal parameters: \n",
      "criterion: 'entropy'\n",
      "max_depth: 5\n",
      "min_samples_leaf: 2\n",
      "min_samples_split: 10\n",
      "\n",
      "Training Accuracy: 98.58%\n",
      "Testing Accuracy: 96.48%\n"
     ]
    }
   ],
   "source": [
    "model = DecisionTreeClassifier()\n",
    "\n",
    "dt_param_grid = {\n",
    "    'criterion': ['gini', 'entropy'],\n",
    "    'max_depth': [None, 2, 3, 4, 5, 6],\n",
    "    'min_samples_split': [2, 5, 10],\n",
    "    'min_samples_leaf': [1, 2, 3, 4, 5, 6]\n",
    "}\n",
    "\n",
    "# define grid search\n",
    "grid_dt = GridSearchCV(model, dt_param_grid, scoring='accuracy', cv=5, n_jobs=-1)\n",
    "grid_dt.fit(X_train, y_train)\n",
    "\n",
    "best_parameters = grid_dt.best_params_\n",
    "\n",
    "print('Grid Search found the following optimal parameters: ')\n",
    "for param_name in sorted(best_parameters.keys()):\n",
    "    print('%s: %r' % (param_name, best_parameters[param_name]))\n",
    "\n",
    "training_preds_dt = grid_dt.predict(X_train)\n",
    "test_preds_dt = grid_dt.predict(X_test)\n",
    "training_accuracy_dt = accuracy_score(y_train, training_preds_dt)\n",
    "test_accuracy_dt = accuracy_score(y_test, test_preds_dt)\n",
    "\n",
    "print('')\n",
    "print('Training Accuracy: {:.4}%'.format(training_accuracy_dt * 100))\n",
    "print('Testing Accuracy: {:.4}%'.format(test_accuracy_dt * 100))"
   ]
  },
  {
   "cell_type": "markdown",
   "metadata": {},
   "source": [
    "This did not improve our model and is far off the pace set by the SVM model."
   ]
  },
  {
   "cell_type": "markdown",
   "metadata": {},
   "source": [
    "## Bagged Trees"
   ]
  },
  {
   "cell_type": "markdown",
   "metadata": {},
   "source": [
    "Our next Tree model I am going to look at is the Bagged Trees method."
   ]
  },
  {
   "cell_type": "code",
   "execution_count": 70,
   "metadata": {},
   "outputs": [],
   "source": [
    "# Instantiate a BaggingClassifier\n",
    "bagged_tree = BaggingClassifier(DecisionTreeClassifier(criterion='gini', max_depth=5), n_estimators=20)"
   ]
  },
  {
   "cell_type": "code",
   "execution_count": 71,
   "metadata": {},
   "outputs": [
    {
     "data": {
      "text/plain": [
       "BaggingClassifier(base_estimator=None, bootstrap=True, bootstrap_features=False,\n",
       "                  max_features=1.0, max_samples=1.0, n_estimators=10,\n",
       "                  n_jobs=None, oob_score=False, random_state=None, verbose=0,\n",
       "                  warm_start=False)"
      ]
     },
     "execution_count": 71,
     "metadata": {},
     "output_type": "execute_result"
    }
   ],
   "source": [
    "# Fit to the training data\n",
    "bagged_tree.fit(X_train, y_train)"
   ]
  },
  {
   "cell_type": "code",
   "execution_count": 72,
   "metadata": {},
   "outputs": [
    {
     "name": "stdout",
     "output_type": "stream",
     "text": [
      "[[457   2]\n",
      " [ 10  14]]\n",
      "              precision    recall  f1-score   support\n",
      "\n",
      "           0       0.98      1.00      0.99       459\n",
      "           1       0.88      0.58      0.70        24\n",
      "\n",
      "    accuracy                           0.98       483\n",
      "   macro avg       0.93      0.79      0.84       483\n",
      "weighted avg       0.97      0.98      0.97       483\n",
      "\n"
     ]
    }
   ],
   "source": [
    "# Test set predictions\n",
    "bagged_pred = bagged_tree.predict(X_test)\n",
    "\n",
    "# Confusion matrix and classification report\n",
    "print(confusion_matrix(y_test, bagged_pred))\n",
    "print(classification_report(y_test, bagged_pred))"
   ]
  },
  {
   "cell_type": "code",
   "execution_count": 73,
   "metadata": {},
   "outputs": [
    {
     "data": {
      "text/plain": [
       "0.9955595026642984"
      ]
     },
     "execution_count": 73,
     "metadata": {},
     "output_type": "execute_result"
    }
   ],
   "source": [
    "# Training accuracy score\n",
    "bagged_tree.score(X_train, y_train)"
   ]
  },
  {
   "cell_type": "code",
   "execution_count": 74,
   "metadata": {},
   "outputs": [
    {
     "data": {
      "text/plain": [
       "0.9751552795031055"
      ]
     },
     "execution_count": 74,
     "metadata": {},
     "output_type": "execute_result"
    }
   ],
   "source": [
    "# Test accuracy score\n",
    "bagged_tree.score(X_test, y_test)"
   ]
  },
  {
   "cell_type": "code",
   "execution_count": 75,
   "metadata": {},
   "outputs": [
    {
     "data": {
      "image/png": "[encoded data removed]",
      "text/plain": [
       "<Figure size 576x576 with 2 Axes>"
      ]
     },
     "metadata": {},
     "output_type": "display_data"
    }
   ],
   "source": [
    "plot_cm(bagged_tree)"
   ]
  },
  {
   "cell_type": "markdown",
   "metadata": {},
   "source": [
    "This model performed relatively well, better than the base Decision Tree model and only slightly worse than the SVM model. Perhaps with some tuning of the hyperparameters I could find a model that outperforms the SVM model but first it's time to look at the obligatory model using SMOTE."
   ]
  },
  {
   "cell_type": "markdown",
   "metadata": {},
   "source": [
    "## Bagged Trees with SMOTE"
   ]
  },
  {
   "cell_type": "code",
   "execution_count": 76,
   "metadata": {},
   "outputs": [
    {
     "data": {
      "text/plain": [
       "BaggingClassifier(base_estimator=None, bootstrap=True, bootstrap_features=False,\n",
       "                  max_features=1.0, max_samples=1.0, n_estimators=10,\n",
       "                  n_jobs=None, oob_score=False, random_state=None, verbose=0,\n",
       "                  warm_start=False)"
      ]
     },
     "execution_count": 76,
     "metadata": {},
     "output_type": "execute_result"
    }
   ],
   "source": [
    "# Instantiate a BaggingClassifier\n",
    "bagged_smote = BaggingClassifier()\n",
    "# Fit to the training data\n",
    "bagged_smote.fit(X_train_resampled, y_train_resampled)"
   ]
  },
  {
   "cell_type": "code",
   "execution_count": 77,
   "metadata": {},
   "outputs": [
    {
     "name": "stdout",
     "output_type": "stream",
     "text": [
      "[[450   9]\n",
      " [ 10  14]]\n",
      "              precision    recall  f1-score   support\n",
      "\n",
      "           0       0.98      0.98      0.98       459\n",
      "           1       0.61      0.58      0.60        24\n",
      "\n",
      "    accuracy                           0.96       483\n",
      "   macro avg       0.79      0.78      0.79       483\n",
      "weighted avg       0.96      0.96      0.96       483\n",
      "\n"
     ]
    }
   ],
   "source": [
    "# Test set predictions\n",
    "smote_bpred = bagged_smote.predict(X_test)\n",
    "\n",
    "# Confusion matrix and classification report\n",
    "print(confusion_matrix(y_test, smote_bpred))\n",
    "print(classification_report(y_test, smote_bpred))"
   ]
  },
  {
   "cell_type": "code",
   "execution_count": 78,
   "metadata": {},
   "outputs": [
    {
     "name": "stdout",
     "output_type": "stream",
     "text": [
      "Testing Accuracy for Bagged Tree Classifier with SMOTE: 96.07%\n"
     ]
    }
   ],
   "source": [
    "print(\"Testing Accuracy for Bagged Tree Classifier with SMOTE: {:.4}%\".format(accuracy_score(y_test, smote_bpred) * 100))"
   ]
  },
  {
   "cell_type": "markdown",
   "metadata": {},
   "source": [
    "Accuracy decreased significantly."
   ]
  },
  {
   "cell_type": "markdown",
   "metadata": {},
   "source": [
    "## Hyperparameter"
   ]
  },
  {
   "cell_type": "code",
   "execution_count": 79,
   "metadata": {},
   "outputs": [
    {
     "name": "stdout",
     "output_type": "stream",
     "text": [
      "Grid Search found the following optimal parameters: \n",
      "n_estimators: 100\n",
      "\n",
      "Training Accuracy: 100.0%\n",
      "Testing Accuracy: 97.52%\n"
     ]
    }
   ],
   "source": [
    "model = BaggingClassifier()\n",
    "\n",
    "bag_param_grid = {\n",
    "    'n_estimators': [10, 100, 1000],\n",
    "}\n",
    "\n",
    "# define grid search\n",
    "grid_bag = GridSearchCV(model, bag_param_grid, scoring='accuracy', cv=5, n_jobs=-1)\n",
    "grid_bag.fit(X_train, y_train)\n",
    "\n",
    "best_parameters = grid_bag.best_params_\n",
    "\n",
    "print('Grid Search found the following optimal parameters: ')\n",
    "for param_name in sorted(best_parameters.keys()):\n",
    "    print('%s: %r' % (param_name, best_parameters[param_name]))\n",
    "\n",
    "training_bags = grid_bag.predict(X_train)\n",
    "test_bags = grid_bag.predict(X_test)\n",
    "training_accuracy_bags = accuracy_score(y_train, training_bags)\n",
    "test_accuracy_bags = accuracy_score(y_test, test_bags)\n",
    "\n",
    "print('')\n",
    "print('Training Accuracy: {:.4}%'.format(training_accuracy_bags * 100))\n",
    "print('Testing Accuracy: {:.4}%'.format(test_accuracy_bags * 100))"
   ]
  },
  {
   "cell_type": "markdown",
   "metadata": {},
   "source": [
    "The original baseline Bagging classifier and this one performed just about the same and are not accurate enough to replace the SVM model."
   ]
  },
  {
   "cell_type": "markdown",
   "metadata": {},
   "source": [
    "## Random Forest"
   ]
  },
  {
   "cell_type": "markdown",
   "metadata": {},
   "source": [
    "The next model that I will consider is the Random Forest model."
   ]
  },
  {
   "cell_type": "code",
   "execution_count": 80,
   "metadata": {},
   "outputs": [
    {
     "data": {
      "text/plain": [
       "RandomForestClassifier(bootstrap=True, ccp_alpha=0.0, class_weight=None,\n",
       "                       criterion='gini', max_depth=5, max_features='auto',\n",
       "                       max_leaf_nodes=None, max_samples=None,\n",
       "                       min_impurity_decrease=0.0, min_impurity_split=None,\n",
       "                       min_samples_leaf=1, min_samples_split=2,\n",
       "                       min_weight_fraction_leaf=0.0, n_estimators=100,\n",
       "                       n_jobs=None, oob_score=False, random_state=None,\n",
       "                       verbose=0, warm_start=False)"
      ]
     },
     "execution_count": 80,
     "metadata": {},
     "output_type": "execute_result"
    }
   ],
   "source": [
    "# Instantiate and fit a RandomForestClassifier\n",
    "forest = RandomForestClassifier(n_estimators=100, max_depth=5)\n",
    "forest.fit(X_train, y_train)"
   ]
  },
  {
   "cell_type": "code",
   "execution_count": 81,
   "metadata": {},
   "outputs": [
    {
     "data": {
      "text/plain": [
       "0.9928952042628775"
      ]
     },
     "execution_count": 81,
     "metadata": {},
     "output_type": "execute_result"
    }
   ],
   "source": [
    "# Training accuracy score\n",
    "forest.score(X_train, y_train)"
   ]
  },
  {
   "cell_type": "code",
   "execution_count": 82,
   "metadata": {},
   "outputs": [
    {
     "data": {
      "text/plain": [
       "0.9751552795031055"
      ]
     },
     "execution_count": 82,
     "metadata": {},
     "output_type": "execute_result"
    }
   ],
   "source": [
    "# Test accuracy score\n",
    "forest.score(X_test, y_test)"
   ]
  },
  {
   "cell_type": "code",
   "execution_count": 83,
   "metadata": {},
   "outputs": [
    {
     "name": "stdout",
     "output_type": "stream",
     "text": [
      "[[457   2]\n",
      " [ 10  14]]\n",
      "              precision    recall  f1-score   support\n",
      "\n",
      "           0       0.98      1.00      0.99       459\n",
      "           1       0.88      0.58      0.70        24\n",
      "\n",
      "    accuracy                           0.98       483\n",
      "   macro avg       0.93      0.79      0.84       483\n",
      "weighted avg       0.97      0.98      0.97       483\n",
      "\n"
     ]
    }
   ],
   "source": [
    "# Test set predictions\n",
    "rf_pred = forest.predict(X_test)\n",
    "\n",
    "# Confusion matrix and classification report\n",
    "print(confusion_matrix(y_test, rf_pred))\n",
    "print(classification_report(y_test, rf_pred))"
   ]
  },
  {
   "cell_type": "code",
   "execution_count": 84,
   "metadata": {},
   "outputs": [
    {
     "data": {
      "image/png": "[encoded data removed]",
      "text/plain": [
       "<Figure size 576x576 with 2 Axes>"
      ]
     },
     "metadata": {},
     "output_type": "display_data"
    }
   ],
   "source": [
    "plot_cm(forest)"
   ]
  },
  {
   "cell_type": "code",
   "execution_count": 85,
   "metadata": {},
   "outputs": [
    {
     "name": "stdout",
     "output_type": "stream",
     "text": [
      "Precision Score: 0.875\n",
      "Recall Score: 0.5833333333333334\n",
      "Accuracy Score: 0.9751552795031055\n",
      "F1 Score: 0.7000000000000001\n"
     ]
    }
   ],
   "source": [
    "print_metrics(y_test, rf_pred)"
   ]
  },
  {
   "cell_type": "markdown",
   "metadata": {},
   "source": [
    "The Random Forest model appears to be suffering from overfitting and a poor recall score in comparison to the precision score. With that in consideration, the accuracy score is among the top of all the models so far. I am going to try to improve the model with SMOTE and hyperparameter tuning."
   ]
  },
  {
   "cell_type": "markdown",
   "metadata": {},
   "source": [
    "## Random Forest with SMOTE"
   ]
  },
  {
   "cell_type": "code",
   "execution_count": 86,
   "metadata": {},
   "outputs": [
    {
     "data": {
      "text/plain": [
       "RandomForestClassifier(bootstrap=True, ccp_alpha=0.0, class_weight=None,\n",
       "                       criterion='gini', max_depth=5, max_features='auto',\n",
       "                       max_leaf_nodes=None, max_samples=None,\n",
       "                       min_impurity_decrease=0.0, min_impurity_split=None,\n",
       "                       min_samples_leaf=1, min_samples_split=2,\n",
       "                       min_weight_fraction_leaf=0.0, n_estimators=100,\n",
       "                       n_jobs=None, oob_score=False, random_state=None,\n",
       "                       verbose=0, warm_start=False)"
      ]
     },
     "execution_count": 86,
     "metadata": {},
     "output_type": "execute_result"
    }
   ],
   "source": [
    "# Instantiate and fit a RandomForestClassifier\n",
    "smote_forest = RandomForestClassifier(n_estimators=100, max_depth=5)\n",
    "smote_forest.fit(X_train_resampled, y_train_resampled)"
   ]
  },
  {
   "cell_type": "code",
   "execution_count": 87,
   "metadata": {},
   "outputs": [
    {
     "data": {
      "text/plain": [
       "0.9878618113912232"
      ]
     },
     "execution_count": 87,
     "metadata": {},
     "output_type": "execute_result"
    }
   ],
   "source": [
    "# Training accuracy score\n",
    "smote_forest.score(X_train_resampled, y_train_resampled)"
   ]
  },
  {
   "cell_type": "code",
   "execution_count": 88,
   "metadata": {},
   "outputs": [
    {
     "data": {
      "text/plain": [
       "0.9648033126293996"
      ]
     },
     "execution_count": 88,
     "metadata": {},
     "output_type": "execute_result"
    }
   ],
   "source": [
    "# Test accuracy score\n",
    "smote_forest.score(X_test, y_test)"
   ]
  },
  {
   "cell_type": "code",
   "execution_count": 89,
   "metadata": {},
   "outputs": [
    {
     "name": "stdout",
     "output_type": "stream",
     "text": [
      "[[449  10]\n",
      " [  7  17]]\n",
      "              precision    recall  f1-score   support\n",
      "\n",
      "           0       0.98      0.98      0.98       459\n",
      "           1       0.63      0.71      0.67        24\n",
      "\n",
      "    accuracy                           0.96       483\n",
      "   macro avg       0.81      0.84      0.82       483\n",
      "weighted avg       0.97      0.96      0.97       483\n",
      "\n"
     ]
    }
   ],
   "source": [
    "# Test set predictions\n",
    "srf_pred = smote_forest.predict(X_test)\n",
    "\n",
    "# Confusion matrix and classification report\n",
    "print(confusion_matrix(y_test, srf_pred))\n",
    "print(classification_report(y_test, srf_pred))"
   ]
  },
  {
   "cell_type": "markdown",
   "metadata": {},
   "source": [
    "Unfortunately, SMOTE once again decrease the accuracy of the model."
   ]
  },
  {
   "cell_type": "markdown",
   "metadata": {},
   "source": [
    "## Hyperparameter Tuning"
   ]
  },
  {
   "cell_type": "code",
   "execution_count": 109,
   "metadata": {},
   "outputs": [
    {
     "name": "stdout",
     "output_type": "stream",
     "text": [
      "Grid Search found the following optimal parameters: \n",
      "criterion: 'gini'\n",
      "max_depth: None\n",
      "max_features: 'sqrt'\n",
      "min_samples_leaf: 3\n",
      "min_samples_split: 5\n",
      "n_estimators: 100\n",
      "\n",
      "Training Accuracy: 99.2%\n",
      "Testing Accuracy: 97.52%\n"
     ]
    }
   ],
   "source": [
    "model = RandomForestClassifier()\n",
    "\n",
    "rf_param_grid = {\n",
    "    'n_estimators': [10, 100, 1000],\n",
    "    'criterion': ['gini', 'entropy'],\n",
    "    'max_features': ['sqrt', 'log2'],\n",
    "    'max_depth': [None, 2, 6, 10],\n",
    "    'min_samples_split': [5, 10],\n",
    "    'min_samples_leaf': [3, 6]\n",
    "}\n",
    "\n",
    "# define grid search\n",
    "grid_rf = GridSearchCV(model, rf_param_grid, scoring='accuracy', cv=5, n_jobs=-1)\n",
    "grid_rf.fit(X_train, y_train)\n",
    "\n",
    "best_parameters = grid_rf.best_params_\n",
    "\n",
    "print('Grid Search found the following optimal parameters: ')\n",
    "for param_name in sorted(best_parameters.keys()):\n",
    "    print('%s: %r' % (param_name, best_parameters[param_name]))\n",
    "\n",
    "training_preds_rf = grid_rf.predict(X_train)\n",
    "test_preds_rf = grid_rf.predict(X_test)\n",
    "training_accuracy_rf = accuracy_score(y_train, training_preds_rf)\n",
    "test_accuracy_rf = accuracy_score(y_test, test_preds_rf)\n",
    "\n",
    "print('')\n",
    "print('Training Accuracy: {:.4}%'.format(training_accuracy_rf * 100))\n",
    "print('Testing Accuracy: {:.4}%'.format(test_accuracy_rf * 100))"
   ]
  },
  {
   "cell_type": "markdown",
   "metadata": {},
   "source": [
    "This is one of the best models for this dataset yet. The SVM model has a slightly higher testing accuracy score and has no sign of overfitting. For that reason the SVM model is the better of the two for this analysis."
   ]
  },
  {
   "cell_type": "markdown",
   "metadata": {},
   "source": [
    "# Extreme Gradient Boosting"
   ]
  },
  {
   "cell_type": "code",
   "execution_count": 91,
   "metadata": {},
   "outputs": [
    {
     "name": "stdout",
     "output_type": "stream",
     "text": [
      "Training Accuracy: 100.0%\n",
      "Testing Accuracy: 97.52%\n"
     ]
    }
   ],
   "source": [
    "# Instantiate XGBClassifier\n",
    "clf = XGBClassifier()\n",
    "\n",
    "# Fit XGBClassifier\n",
    "clf.fit(X_train, y_train)\n",
    "\n",
    "# Predict on training and test sets\n",
    "training_preds = clf.predict(X_train)\n",
    "test_preds = clf.predict(X_test)\n",
    "\n",
    "# Accuracy of training and test sets\n",
    "training_accuracy = accuracy_score(y_train, training_preds)\n",
    "test_accuracy = accuracy_score(y_test, test_preds)\n",
    "\n",
    "print('Training Accuracy: {:.4}%'.format(training_accuracy * 100))\n",
    "print('Testing Accuracy: {:.4}%'.format(test_accuracy * 100))"
   ]
  },
  {
   "cell_type": "markdown",
   "metadata": {},
   "source": [
    "This model had great training accuracy but struggled to perform to that same standard with the testing accuracy. I will tune the hyperparameters to see if this model can be improved or if the SVM model is in fact the best for this analysis."
   ]
  },
  {
   "cell_type": "markdown",
   "metadata": {},
   "source": [
    "## Hyperparameter Tuning"
   ]
  },
  {
   "cell_type": "code",
   "execution_count": 92,
   "metadata": {},
   "outputs": [],
   "source": [
    "param_grid = {\n",
    "    'learning_rate': [0.001, 0.01, 0.1],\n",
    "    'max_depth': [3, 5, 7, 9],\n",
    "    'min_child_weight': [1, 2],\n",
    "    'subsample': [0.5, 0.7, 1],\n",
    "    'n_estimators': [10, 100, 1000],\n",
    "}"
   ]
  },
  {
   "cell_type": "code",
   "execution_count": 93,
   "metadata": {},
   "outputs": [
    {
     "name": "stdout",
     "output_type": "stream",
     "text": [
      "Grid Search found the following optimal parameters: \n",
      "learning_rate: 0.001\n",
      "max_depth: 3\n",
      "min_child_weight: 1\n",
      "n_estimators: 1000\n",
      "subsample: 0.5\n",
      "\n",
      "Training Accuracy: 98.58%\n",
      "Testing Accuracy: 96.48%\n"
     ]
    }
   ],
   "source": [
    "grid_clf = GridSearchCV(clf, param_grid, scoring='accuracy', cv=None, n_jobs=1)\n",
    "grid_clf.fit(X_train, y_train)\n",
    "\n",
    "best_parameters = grid_clf.best_params_\n",
    "\n",
    "print('Grid Search found the following optimal parameters: ')\n",
    "for param_name in sorted(best_parameters.keys()):\n",
    "    print('%s: %r' % (param_name, best_parameters[param_name]))\n",
    "\n",
    "training_preds = grid_clf.predict(X_train)\n",
    "test_preds = grid_clf.predict(X_test)\n",
    "training_accuracy = accuracy_score(y_train, training_preds)\n",
    "test_accuracy = accuracy_score(y_test, test_preds)\n",
    "\n",
    "print('')\n",
    "print('Training Accuracy: {:.4}%'.format(training_accuracy * 100))\n",
    "print('Testing Accuracy: {:.4}%'.format(test_accuracy * 100))"
   ]
  },
  {
   "cell_type": "markdown",
   "metadata": {},
   "source": [
    "This model perfomed worse than the base XGB model and did not outperform the SVM model which means that I am going to move forward with the SVM model to see if I can make any further changes to improve that model's performance."
   ]
  },
  {
   "cell_type": "markdown",
   "metadata": {},
   "source": [
    "# Evaluation"
   ]
  },
  {
   "cell_type": "markdown",
   "metadata": {},
   "source": [
    "Although there were a few good options such as Logisitic Regression and Bagging, the SVM model outperformed the others. This model has been tuned using an array of hyperparameters to find what works best; however, it might benefit the model to log transform the features. Due to the fact that there are several zeros in the dataset I will do log + 1 in order to work around that. The last thing I want to look at is the feature importance to determine if there are any that can be dropped for improved model performance!"
   ]
  },
  {
   "cell_type": "code",
   "execution_count": 94,
   "metadata": {},
   "outputs": [
    {
     "data": {
      "text/html": [
       "<div>\n",
       "<style scoped>\n",
       "    .dataframe tbody tr th:only-of-type {\n",
       "        vertical-align: middle;\n",
       "    }\n",
       "\n",
       "    .dataframe tbody tr th {\n",
       "        vertical-align: top;\n",
       "    }\n",
       "\n",
       "    .dataframe thead th {\n",
       "        text-align: right;\n",
       "    }\n",
       "</style>\n",
       "<table border=\"1\" class=\"dataframe\">\n",
       "  <thead>\n",
       "    <tr style=\"text-align: right;\">\n",
       "      <th></th>\n",
       "      <th>H</th>\n",
       "      <th>HR</th>\n",
       "      <th>RBI</th>\n",
       "      <th>SB</th>\n",
       "      <th>HBP</th>\n",
       "      <th>BA</th>\n",
       "      <th>OPS</th>\n",
       "      <th>PO</th>\n",
       "      <th>Gold Glove</th>\n",
       "      <th>Most Valuable Player</th>\n",
       "      <th>...</th>\n",
       "      <th>RBI_log</th>\n",
       "      <th>SB_log</th>\n",
       "      <th>HBP_log</th>\n",
       "      <th>BA_log</th>\n",
       "      <th>OPS_log</th>\n",
       "      <th>PO_log</th>\n",
       "      <th>Gold Glove_log</th>\n",
       "      <th>Most Valuable Player_log</th>\n",
       "      <th>Silver Slugger_log</th>\n",
       "      <th>ASG_log</th>\n",
       "    </tr>\n",
       "  </thead>\n",
       "  <tbody>\n",
       "    <tr>\n",
       "      <td>0</td>\n",
       "      <td>3771</td>\n",
       "      <td>755</td>\n",
       "      <td>2297.0</td>\n",
       "      <td>240.0</td>\n",
       "      <td>32.0</td>\n",
       "      <td>0.305</td>\n",
       "      <td>0.929</td>\n",
       "      <td>7436.0</td>\n",
       "      <td>3.0</td>\n",
       "      <td>1.0</td>\n",
       "      <td>...</td>\n",
       "      <td>7.739794</td>\n",
       "      <td>5.484797</td>\n",
       "      <td>3.496508</td>\n",
       "      <td>0.266203</td>\n",
       "      <td>0.657002</td>\n",
       "      <td>8.914223</td>\n",
       "      <td>1.386294</td>\n",
       "      <td>0.693147</td>\n",
       "      <td>0.000000</td>\n",
       "      <td>3.218876</td>\n",
       "    </tr>\n",
       "    <tr>\n",
       "      <td>1</td>\n",
       "      <td>772</td>\n",
       "      <td>11</td>\n",
       "      <td>324.0</td>\n",
       "      <td>142.0</td>\n",
       "      <td>33.0</td>\n",
       "      <td>0.254</td>\n",
       "      <td>0.650</td>\n",
       "      <td>1873.0</td>\n",
       "      <td>0.0</td>\n",
       "      <td>0.0</td>\n",
       "      <td>...</td>\n",
       "      <td>5.783825</td>\n",
       "      <td>4.962845</td>\n",
       "      <td>3.526361</td>\n",
       "      <td>0.226338</td>\n",
       "      <td>0.500775</td>\n",
       "      <td>7.535830</td>\n",
       "      <td>0.000000</td>\n",
       "      <td>0.000000</td>\n",
       "      <td>0.000000</td>\n",
       "      <td>0.000000</td>\n",
       "    </tr>\n",
       "    <tr>\n",
       "      <td>2</td>\n",
       "      <td>2470</td>\n",
       "      <td>288</td>\n",
       "      <td>1363.0</td>\n",
       "      <td>400.0</td>\n",
       "      <td>33.0</td>\n",
       "      <td>0.291</td>\n",
       "      <td>0.870</td>\n",
       "      <td>3952.0</td>\n",
       "      <td>1.0</td>\n",
       "      <td>0.0</td>\n",
       "      <td>...</td>\n",
       "      <td>7.218177</td>\n",
       "      <td>5.993961</td>\n",
       "      <td>3.526361</td>\n",
       "      <td>0.255417</td>\n",
       "      <td>0.625938</td>\n",
       "      <td>8.282230</td>\n",
       "      <td>0.693147</td>\n",
       "      <td>0.000000</td>\n",
       "      <td>0.693147</td>\n",
       "      <td>1.098612</td>\n",
       "    </tr>\n",
       "    <tr>\n",
       "      <td>3</td>\n",
       "      <td>1022</td>\n",
       "      <td>57</td>\n",
       "      <td>366.0</td>\n",
       "      <td>29.0</td>\n",
       "      <td>17.0</td>\n",
       "      <td>0.254</td>\n",
       "      <td>0.639</td>\n",
       "      <td>2380.0</td>\n",
       "      <td>0.0</td>\n",
       "      <td>0.0</td>\n",
       "      <td>...</td>\n",
       "      <td>5.905362</td>\n",
       "      <td>3.401197</td>\n",
       "      <td>2.890372</td>\n",
       "      <td>0.226338</td>\n",
       "      <td>0.494086</td>\n",
       "      <td>7.775276</td>\n",
       "      <td>0.000000</td>\n",
       "      <td>0.000000</td>\n",
       "      <td>0.000000</td>\n",
       "      <td>0.000000</td>\n",
       "    </tr>\n",
       "    <tr>\n",
       "      <td>4</td>\n",
       "      <td>1082</td>\n",
       "      <td>37</td>\n",
       "      <td>303.0</td>\n",
       "      <td>67.0</td>\n",
       "      <td>17.0</td>\n",
       "      <td>0.269</td>\n",
       "      <td>0.708</td>\n",
       "      <td>1748.0</td>\n",
       "      <td>0.0</td>\n",
       "      <td>0.0</td>\n",
       "      <td>...</td>\n",
       "      <td>5.717028</td>\n",
       "      <td>4.219508</td>\n",
       "      <td>2.890372</td>\n",
       "      <td>0.238229</td>\n",
       "      <td>0.535323</td>\n",
       "      <td>7.466799</td>\n",
       "      <td>0.000000</td>\n",
       "      <td>0.000000</td>\n",
       "      <td>0.000000</td>\n",
       "      <td>0.000000</td>\n",
       "    </tr>\n",
       "    <tr>\n",
       "      <td>...</td>\n",
       "      <td>...</td>\n",
       "      <td>...</td>\n",
       "      <td>...</td>\n",
       "      <td>...</td>\n",
       "      <td>...</td>\n",
       "      <td>...</td>\n",
       "      <td>...</td>\n",
       "      <td>...</td>\n",
       "      <td>...</td>\n",
       "      <td>...</td>\n",
       "      <td>...</td>\n",
       "      <td>...</td>\n",
       "      <td>...</td>\n",
       "      <td>...</td>\n",
       "      <td>...</td>\n",
       "      <td>...</td>\n",
       "      <td>...</td>\n",
       "      <td>...</td>\n",
       "      <td>...</td>\n",
       "      <td>...</td>\n",
       "      <td>...</td>\n",
       "    </tr>\n",
       "    <tr>\n",
       "      <td>1616</td>\n",
       "      <td>1093</td>\n",
       "      <td>237</td>\n",
       "      <td>776.0</td>\n",
       "      <td>15.0</td>\n",
       "      <td>24.0</td>\n",
       "      <td>0.265</td>\n",
       "      <td>0.815</td>\n",
       "      <td>2287.0</td>\n",
       "      <td>0.0</td>\n",
       "      <td>0.0</td>\n",
       "      <td>...</td>\n",
       "      <td>6.655440</td>\n",
       "      <td>2.772589</td>\n",
       "      <td>3.218876</td>\n",
       "      <td>0.235072</td>\n",
       "      <td>0.596085</td>\n",
       "      <td>7.735433</td>\n",
       "      <td>0.000000</td>\n",
       "      <td>0.000000</td>\n",
       "      <td>0.000000</td>\n",
       "      <td>0.693147</td>\n",
       "    </tr>\n",
       "    <tr>\n",
       "      <td>1617</td>\n",
       "      <td>1225</td>\n",
       "      <td>26</td>\n",
       "      <td>625.0</td>\n",
       "      <td>151.0</td>\n",
       "      <td>91.0</td>\n",
       "      <td>0.269</td>\n",
       "      <td>0.708</td>\n",
       "      <td>5121.0</td>\n",
       "      <td>0.0</td>\n",
       "      <td>0.0</td>\n",
       "      <td>...</td>\n",
       "      <td>6.439350</td>\n",
       "      <td>5.023881</td>\n",
       "      <td>4.521789</td>\n",
       "      <td>0.238229</td>\n",
       "      <td>0.535323</td>\n",
       "      <td>8.541300</td>\n",
       "      <td>0.000000</td>\n",
       "      <td>0.000000</td>\n",
       "      <td>0.000000</td>\n",
       "      <td>0.000000</td>\n",
       "    </tr>\n",
       "    <tr>\n",
       "      <td>1618</td>\n",
       "      <td>773</td>\n",
       "      <td>91</td>\n",
       "      <td>352.0</td>\n",
       "      <td>45.0</td>\n",
       "      <td>13.0</td>\n",
       "      <td>0.235</td>\n",
       "      <td>0.662</td>\n",
       "      <td>1641.0</td>\n",
       "      <td>0.0</td>\n",
       "      <td>0.0</td>\n",
       "      <td>...</td>\n",
       "      <td>5.866468</td>\n",
       "      <td>3.828641</td>\n",
       "      <td>2.639057</td>\n",
       "      <td>0.211071</td>\n",
       "      <td>0.508022</td>\n",
       "      <td>7.403670</td>\n",
       "      <td>0.000000</td>\n",
       "      <td>0.000000</td>\n",
       "      <td>0.000000</td>\n",
       "      <td>1.098612</td>\n",
       "    </tr>\n",
       "    <tr>\n",
       "      <td>1619</td>\n",
       "      <td>1566</td>\n",
       "      <td>58</td>\n",
       "      <td>796.0</td>\n",
       "      <td>175.0</td>\n",
       "      <td>38.0</td>\n",
       "      <td>0.295</td>\n",
       "      <td>0.750</td>\n",
       "      <td>2394.0</td>\n",
       "      <td>0.0</td>\n",
       "      <td>0.0</td>\n",
       "      <td>...</td>\n",
       "      <td>6.680855</td>\n",
       "      <td>5.170484</td>\n",
       "      <td>3.663562</td>\n",
       "      <td>0.258511</td>\n",
       "      <td>0.559616</td>\n",
       "      <td>7.781139</td>\n",
       "      <td>0.000000</td>\n",
       "      <td>0.000000</td>\n",
       "      <td>0.000000</td>\n",
       "      <td>0.000000</td>\n",
       "    </tr>\n",
       "    <tr>\n",
       "      <td>1620</td>\n",
       "      <td>1477</td>\n",
       "      <td>207</td>\n",
       "      <td>792.0</td>\n",
       "      <td>8.0</td>\n",
       "      <td>12.0</td>\n",
       "      <td>0.287</td>\n",
       "      <td>0.819</td>\n",
       "      <td>1680.0</td>\n",
       "      <td>0.0</td>\n",
       "      <td>0.0</td>\n",
       "      <td>...</td>\n",
       "      <td>6.675823</td>\n",
       "      <td>2.197225</td>\n",
       "      <td>2.564949</td>\n",
       "      <td>0.252314</td>\n",
       "      <td>0.598287</td>\n",
       "      <td>7.427144</td>\n",
       "      <td>0.000000</td>\n",
       "      <td>0.000000</td>\n",
       "      <td>0.000000</td>\n",
       "      <td>1.098612</td>\n",
       "    </tr>\n",
       "  </tbody>\n",
       "</table>\n",
       "<p>1609 rows × 24 columns</p>\n",
       "</div>"
      ],
      "text/plain": [
       "         H   HR     RBI     SB   HBP     BA    OPS      PO  Gold Glove  \\\n",
       "0     3771  755  2297.0  240.0  32.0  0.305  0.929  7436.0         3.0   \n",
       "1      772   11   324.0  142.0  33.0  0.254  0.650  1873.0         0.0   \n",
       "2     2470  288  1363.0  400.0  33.0  0.291  0.870  3952.0         1.0   \n",
       "3     1022   57   366.0   29.0  17.0  0.254  0.639  2380.0         0.0   \n",
       "4     1082   37   303.0   67.0  17.0  0.269  0.708  1748.0         0.0   \n",
       "...    ...  ...     ...    ...   ...    ...    ...     ...         ...   \n",
       "1616  1093  237   776.0   15.0  24.0  0.265  0.815  2287.0         0.0   \n",
       "1617  1225   26   625.0  151.0  91.0  0.269  0.708  5121.0         0.0   \n",
       "1618   773   91   352.0   45.0  13.0  0.235  0.662  1641.0         0.0   \n",
       "1619  1566   58   796.0  175.0  38.0  0.295  0.750  2394.0         0.0   \n",
       "1620  1477  207   792.0    8.0  12.0  0.287  0.819  1680.0         0.0   \n",
       "\n",
       "      Most Valuable Player  ...   RBI_log    SB_log   HBP_log    BA_log  \\\n",
       "0                      1.0  ...  7.739794  5.484797  3.496508  0.266203   \n",
       "1                      0.0  ...  5.783825  4.962845  3.526361  0.226338   \n",
       "2                      0.0  ...  7.218177  5.993961  3.526361  0.255417   \n",
       "3                      0.0  ...  5.905362  3.401197  2.890372  0.226338   \n",
       "4                      0.0  ...  5.717028  4.219508  2.890372  0.238229   \n",
       "...                    ...  ...       ...       ...       ...       ...   \n",
       "1616                   0.0  ...  6.655440  2.772589  3.218876  0.235072   \n",
       "1617                   0.0  ...  6.439350  5.023881  4.521789  0.238229   \n",
       "1618                   0.0  ...  5.866468  3.828641  2.639057  0.211071   \n",
       "1619                   0.0  ...  6.680855  5.170484  3.663562  0.258511   \n",
       "1620                   0.0  ...  6.675823  2.197225  2.564949  0.252314   \n",
       "\n",
       "       OPS_log    PO_log  Gold Glove_log  Most Valuable Player_log  \\\n",
       "0     0.657002  8.914223        1.386294                  0.693147   \n",
       "1     0.500775  7.535830        0.000000                  0.000000   \n",
       "2     0.625938  8.282230        0.693147                  0.000000   \n",
       "3     0.494086  7.775276        0.000000                  0.000000   \n",
       "4     0.535323  7.466799        0.000000                  0.000000   \n",
       "...        ...       ...             ...                       ...   \n",
       "1616  0.596085  7.735433        0.000000                  0.000000   \n",
       "1617  0.535323  8.541300        0.000000                  0.000000   \n",
       "1618  0.508022  7.403670        0.000000                  0.000000   \n",
       "1619  0.559616  7.781139        0.000000                  0.000000   \n",
       "1620  0.598287  7.427144        0.000000                  0.000000   \n",
       "\n",
       "      Silver Slugger_log   ASG_log  \n",
       "0               0.000000  3.218876  \n",
       "1               0.000000  0.000000  \n",
       "2               0.693147  1.098612  \n",
       "3               0.000000  0.000000  \n",
       "4               0.000000  0.000000  \n",
       "...                  ...       ...  \n",
       "1616            0.000000  0.693147  \n",
       "1617            0.000000  0.000000  \n",
       "1618            0.000000  1.098612  \n",
       "1619            0.000000  0.000000  \n",
       "1620            0.000000  1.098612  \n",
       "\n",
       "[1609 rows x 24 columns]"
      ]
     },
     "execution_count": 94,
     "metadata": {},
     "output_type": "execute_result"
    }
   ],
   "source": [
    "# Run log function for the features.\n",
    "log_features = X.columns\n",
    "log_transform(X, log_features)"
   ]
  },
  {
   "cell_type": "code",
   "execution_count": 95,
   "metadata": {},
   "outputs": [
    {
     "data": {
      "text/html": [
       "<div>\n",
       "<style scoped>\n",
       "    .dataframe tbody tr th:only-of-type {\n",
       "        vertical-align: middle;\n",
       "    }\n",
       "\n",
       "    .dataframe tbody tr th {\n",
       "        vertical-align: top;\n",
       "    }\n",
       "\n",
       "    .dataframe thead th {\n",
       "        text-align: right;\n",
       "    }\n",
       "</style>\n",
       "<table border=\"1\" class=\"dataframe\">\n",
       "  <thead>\n",
       "    <tr style=\"text-align: right;\">\n",
       "      <th></th>\n",
       "      <th>H_log</th>\n",
       "      <th>HR_log</th>\n",
       "      <th>RBI_log</th>\n",
       "      <th>SB_log</th>\n",
       "      <th>HBP_log</th>\n",
       "      <th>BA_log</th>\n",
       "      <th>OPS_log</th>\n",
       "      <th>PO_log</th>\n",
       "      <th>Gold Glove_log</th>\n",
       "      <th>Most Valuable Player_log</th>\n",
       "      <th>Silver Slugger_log</th>\n",
       "      <th>ASG_log</th>\n",
       "    </tr>\n",
       "  </thead>\n",
       "  <tbody>\n",
       "    <tr>\n",
       "      <td>0</td>\n",
       "      <td>8.235361</td>\n",
       "      <td>6.628041</td>\n",
       "      <td>7.739794</td>\n",
       "      <td>5.484797</td>\n",
       "      <td>3.496508</td>\n",
       "      <td>0.266203</td>\n",
       "      <td>0.657002</td>\n",
       "      <td>8.914223</td>\n",
       "      <td>1.386294</td>\n",
       "      <td>0.693147</td>\n",
       "      <td>0.000000</td>\n",
       "      <td>3.218876</td>\n",
       "    </tr>\n",
       "    <tr>\n",
       "      <td>1</td>\n",
       "      <td>6.650279</td>\n",
       "      <td>2.484907</td>\n",
       "      <td>5.783825</td>\n",
       "      <td>4.962845</td>\n",
       "      <td>3.526361</td>\n",
       "      <td>0.226338</td>\n",
       "      <td>0.500775</td>\n",
       "      <td>7.535830</td>\n",
       "      <td>0.000000</td>\n",
       "      <td>0.000000</td>\n",
       "      <td>0.000000</td>\n",
       "      <td>0.000000</td>\n",
       "    </tr>\n",
       "    <tr>\n",
       "      <td>2</td>\n",
       "      <td>7.812378</td>\n",
       "      <td>5.666427</td>\n",
       "      <td>7.218177</td>\n",
       "      <td>5.993961</td>\n",
       "      <td>3.526361</td>\n",
       "      <td>0.255417</td>\n",
       "      <td>0.625938</td>\n",
       "      <td>8.282230</td>\n",
       "      <td>0.693147</td>\n",
       "      <td>0.000000</td>\n",
       "      <td>0.693147</td>\n",
       "      <td>1.098612</td>\n",
       "    </tr>\n",
       "    <tr>\n",
       "      <td>3</td>\n",
       "      <td>6.930495</td>\n",
       "      <td>4.060443</td>\n",
       "      <td>5.905362</td>\n",
       "      <td>3.401197</td>\n",
       "      <td>2.890372</td>\n",
       "      <td>0.226338</td>\n",
       "      <td>0.494086</td>\n",
       "      <td>7.775276</td>\n",
       "      <td>0.000000</td>\n",
       "      <td>0.000000</td>\n",
       "      <td>0.000000</td>\n",
       "      <td>0.000000</td>\n",
       "    </tr>\n",
       "    <tr>\n",
       "      <td>4</td>\n",
       "      <td>6.987490</td>\n",
       "      <td>3.637586</td>\n",
       "      <td>5.717028</td>\n",
       "      <td>4.219508</td>\n",
       "      <td>2.890372</td>\n",
       "      <td>0.238229</td>\n",
       "      <td>0.535323</td>\n",
       "      <td>7.466799</td>\n",
       "      <td>0.000000</td>\n",
       "      <td>0.000000</td>\n",
       "      <td>0.000000</td>\n",
       "      <td>0.000000</td>\n",
       "    </tr>\n",
       "  </tbody>\n",
       "</table>\n",
       "</div>"
      ],
      "text/plain": [
       "      H_log    HR_log   RBI_log    SB_log   HBP_log    BA_log   OPS_log  \\\n",
       "0  8.235361  6.628041  7.739794  5.484797  3.496508  0.266203  0.657002   \n",
       "1  6.650279  2.484907  5.783825  4.962845  3.526361  0.226338  0.500775   \n",
       "2  7.812378  5.666427  7.218177  5.993961  3.526361  0.255417  0.625938   \n",
       "3  6.930495  4.060443  5.905362  3.401197  2.890372  0.226338  0.494086   \n",
       "4  6.987490  3.637586  5.717028  4.219508  2.890372  0.238229  0.535323   \n",
       "\n",
       "     PO_log  Gold Glove_log  Most Valuable Player_log  Silver Slugger_log  \\\n",
       "0  8.914223        1.386294                  0.693147            0.000000   \n",
       "1  7.535830        0.000000                  0.000000            0.000000   \n",
       "2  8.282230        0.693147                  0.000000            0.693147   \n",
       "3  7.775276        0.000000                  0.000000            0.000000   \n",
       "4  7.466799        0.000000                  0.000000            0.000000   \n",
       "\n",
       "    ASG_log  \n",
       "0  3.218876  \n",
       "1  0.000000  \n",
       "2  1.098612  \n",
       "3  0.000000  \n",
       "4  0.000000  "
      ]
     },
     "execution_count": 95,
     "metadata": {},
     "output_type": "execute_result"
    }
   ],
   "source": [
    "# Drop all of the original features as to keep only the log transformations.\n",
    "X_log = X.drop(columns=['H', 'HR', 'RBI', 'SB', 'HBP', 'BA', 'OPS', 'PO', \n",
    "                        'Gold Glove', 'Most Valuable Player', 'Silver Slugger', 'ASG'], axis=1)\n",
    "X_log.head()"
   ]
  },
  {
   "cell_type": "code",
   "execution_count": 96,
   "metadata": {},
   "outputs": [
    {
     "name": "stdout",
     "output_type": "stream",
     "text": [
      "X_train shape: (1126, 12) | X_test shape: (483, 12)\n",
      "y_train mean: 0.05 | y_test mean: 0.05\n",
      "12 features: ['H_log', 'HR_log', 'RBI_log', 'SB_log', 'HBP_log', 'BA_log', 'OPS_log', 'PO_log', 'Gold Glove_log', 'Most Valuable Player_log', 'Silver Slugger_log', 'ASG_log']\n"
     ]
    }
   ],
   "source": [
    "# Train the data.\n",
    "X_train_log, X_test_log, y_train_log, y_test_log = train_test_split(X_log, y, test_size=.30, random_state=42)\n",
    "\n",
    "# Print the info.\n",
    "print(\"X_train shape:\", X_train_log.shape, \"| X_test shape:\", X_test_log.shape)\n",
    "print(\"y_train mean:\", round(np.mean(y_train_log),2), \"| y_test mean:\", round(np.mean(y_test_log),2))\n",
    "print(X_train_log.shape[1], \"features:\", X_train_log.columns.to_list())"
   ]
  },
  {
   "cell_type": "code",
   "execution_count": 97,
   "metadata": {},
   "outputs": [
    {
     "name": "stdout",
     "output_type": "stream",
     "text": [
      "Grid Search found the following optimal parameters: \n",
      "C: 1\n",
      "gamma: 0.001\n",
      "kernel: 'linear'\n",
      "\n",
      "Training Accuracy: 97.42%\n",
      "Testing Accuracy: 96.89%\n"
     ]
    }
   ],
   "source": [
    "# Run the hyperparameter search on the log transformed features.\n",
    "\n",
    "model = SVC()\n",
    "kernel = ['linear']\n",
    "C = [.0001, .001, .01, 1]\n",
    "gamma = [.001, .01, 1]\n",
    "grid = dict(kernel=kernel,C=C,gamma=gamma)\n",
    "grid_svc_log = GridSearchCV(estimator=model, param_grid=grid, scoring='accuracy', cv=5, n_jobs=-1)\n",
    "grid_svc_log.fit(X_train_log, y_train_log)\n",
    "\n",
    "best_parameters = grid_svc_log.best_params_\n",
    "\n",
    "print('Grid Search found the following optimal parameters: ')\n",
    "for param_name in sorted(best_parameters.keys()):\n",
    "    print('%s: %r' % (param_name, best_parameters[param_name]))\n",
    "\n",
    "training_preds_log = grid_svc_log.predict(X_train_log)\n",
    "test_preds_log = grid_svc_log.predict(X_test_log)\n",
    "training_accuracy_log = accuracy_score(y_train_log, training_preds_log)\n",
    "test_accuracy_log = accuracy_score(y_test_log, test_preds_log)\n",
    "\n",
    "print('')\n",
    "print('Training Accuracy: {:.4}%'.format(training_accuracy_log * 100))\n",
    "print('Testing Accuracy: {:.4}%'.format(test_accuracy_log * 100))"
   ]
  },
  {
   "cell_type": "markdown",
   "metadata": {},
   "source": [
    "Unfortunately, a log transformation of the features did not result in a boosted model performance. One last effort to improve my model is going to come from analyzing the feature importance. Perhaps dropping some of the least important features will have a positive impact. "
   ]
  },
  {
   "cell_type": "code",
   "execution_count": 99,
   "metadata": {},
   "outputs": [
    {
     "data": {
      "text/plain": [
       "{'H': 0.6367477278307336,\n",
       " 'HR': 0.47005754553311585,\n",
       " 'RBI': 0.26610682361352955,\n",
       " 'SB': 0.27889044347926006,\n",
       " 'HBP': 0.0273378768616217,\n",
       " 'BA': 0.2890714673095416,\n",
       " 'OPS': 0.19137906616085743,\n",
       " 'PO': 0.18364105404722397,\n",
       " 'Gold Glove': 0.06798361239416012,\n",
       " 'Most Valuable Player': 0.12426559009564944,\n",
       " 'Silver Slugger': 0.08717079248290188,\n",
       " 'ASG': 0.5264213122369701}"
      ]
     },
     "execution_count": 99,
     "metadata": {},
     "output_type": "execute_result"
    }
   ],
   "source": [
    "# Use the optimized parameters for the model and fit it to our training data.\n",
    "svm = SVC(gamma=0.001, C=1, kernel = 'linear')\n",
    "svm.fit(X_train_transformed, y_train)\n",
    "\n",
    "# Define the model features.\n",
    "model_features = ['H', 'HR', 'RBI', 'SB', 'HBP', 'BA', 'OPS', 'PO', 'Gold Glove',\n",
    "       'Most Valuable Player', 'Silver Slugger', 'ASG']\n",
    "\n",
    "# Create a dictionary of features and accompanying coefficients.\n",
    "coef_dict = {}\n",
    "for coef, feat in zip(abs(svm.coef_[0,:]),model_features):\n",
    "    coef_dict[feat] = coef\n",
    "coef_dict"
   ]
  },
  {
   "cell_type": "code",
   "execution_count": 100,
   "metadata": {},
   "outputs": [
    {
     "data": {
      "text/html": [
       "<div>\n",
       "<style scoped>\n",
       "    .dataframe tbody tr th:only-of-type {\n",
       "        vertical-align: middle;\n",
       "    }\n",
       "\n",
       "    .dataframe tbody tr th {\n",
       "        vertical-align: top;\n",
       "    }\n",
       "\n",
       "    .dataframe thead th {\n",
       "        text-align: right;\n",
       "    }\n",
       "</style>\n",
       "<table border=\"1\" class=\"dataframe\">\n",
       "  <thead>\n",
       "    <tr style=\"text-align: right;\">\n",
       "      <th></th>\n",
       "      <th>Features</th>\n",
       "      <th>Coefs</th>\n",
       "    </tr>\n",
       "  </thead>\n",
       "  <tbody>\n",
       "    <tr>\n",
       "      <td>0</td>\n",
       "      <td>H</td>\n",
       "      <td>0.636748</td>\n",
       "    </tr>\n",
       "    <tr>\n",
       "      <td>11</td>\n",
       "      <td>ASG</td>\n",
       "      <td>0.526421</td>\n",
       "    </tr>\n",
       "    <tr>\n",
       "      <td>1</td>\n",
       "      <td>HR</td>\n",
       "      <td>0.470058</td>\n",
       "    </tr>\n",
       "    <tr>\n",
       "      <td>5</td>\n",
       "      <td>BA</td>\n",
       "      <td>0.289071</td>\n",
       "    </tr>\n",
       "    <tr>\n",
       "      <td>3</td>\n",
       "      <td>SB</td>\n",
       "      <td>0.278890</td>\n",
       "    </tr>\n",
       "    <tr>\n",
       "      <td>2</td>\n",
       "      <td>RBI</td>\n",
       "      <td>0.266107</td>\n",
       "    </tr>\n",
       "    <tr>\n",
       "      <td>6</td>\n",
       "      <td>OPS</td>\n",
       "      <td>0.191379</td>\n",
       "    </tr>\n",
       "    <tr>\n",
       "      <td>7</td>\n",
       "      <td>PO</td>\n",
       "      <td>0.183641</td>\n",
       "    </tr>\n",
       "    <tr>\n",
       "      <td>9</td>\n",
       "      <td>Most Valuable Player</td>\n",
       "      <td>0.124266</td>\n",
       "    </tr>\n",
       "    <tr>\n",
       "      <td>10</td>\n",
       "      <td>Silver Slugger</td>\n",
       "      <td>0.087171</td>\n",
       "    </tr>\n",
       "    <tr>\n",
       "      <td>8</td>\n",
       "      <td>Gold Glove</td>\n",
       "      <td>0.067984</td>\n",
       "    </tr>\n",
       "    <tr>\n",
       "      <td>4</td>\n",
       "      <td>HBP</td>\n",
       "      <td>0.027338</td>\n",
       "    </tr>\n",
       "  </tbody>\n",
       "</table>\n",
       "</div>"
      ],
      "text/plain": [
       "                Features     Coefs\n",
       "0                      H  0.636748\n",
       "11                   ASG  0.526421\n",
       "1                     HR  0.470058\n",
       "5                     BA  0.289071\n",
       "3                     SB  0.278890\n",
       "2                    RBI  0.266107\n",
       "6                    OPS  0.191379\n",
       "7                     PO  0.183641\n",
       "9   Most Valuable Player  0.124266\n",
       "10        Silver Slugger  0.087171\n",
       "8             Gold Glove  0.067984\n",
       "4                    HBP  0.027338"
      ]
     },
     "execution_count": 100,
     "metadata": {},
     "output_type": "execute_result"
    }
   ],
   "source": [
    "# Transform the dictionary to a DataFrame in order to visualize.\n",
    "feature_df = pd.DataFrame.from_dict(coef_dict, orient='index').reset_index()\n",
    "feature_df.columns = ['Features', 'Coefs']\n",
    "feature_df = feature_df.sort_values(by='Coefs', ascending=False)\n",
    "feature_df"
   ]
  },
  {
   "cell_type": "code",
   "execution_count": 116,
   "metadata": {},
   "outputs": [
    {
     "data": {
      "image/png": "[encoded data removed]",
      "text/plain": [
       "<Figure size 1008x504 with 1 Axes>"
      ]
     },
     "metadata": {},
     "output_type": "display_data"
    }
   ],
   "source": [
    "#Plot the above findings.\n",
    "plt.figure(figsize=(14,7))\n",
    "ax4 = sns.barplot(x=feature_df['Coefs'], y=feature_df['Features'], palette='GnBu_d')\n",
    "plt.xlabel('Coefficients', fontsize=12)\n",
    "plt.ylabel('Features', fontsize=12)\n",
    "plt.title('Feature Importance', fontsize=14)\n",
    "plt.savefig('FeatureImportanceBatter');"
   ]
  },
  {
   "cell_type": "markdown",
   "metadata": {},
   "source": [
    "I am going to drop the bottom three features to see if it improves our model performance."
   ]
  },
  {
   "cell_type": "code",
   "execution_count": 102,
   "metadata": {},
   "outputs": [
    {
     "data": {
      "text/html": [
       "<div>\n",
       "<style scoped>\n",
       "    .dataframe tbody tr th:only-of-type {\n",
       "        vertical-align: middle;\n",
       "    }\n",
       "\n",
       "    .dataframe tbody tr th {\n",
       "        vertical-align: top;\n",
       "    }\n",
       "\n",
       "    .dataframe thead th {\n",
       "        text-align: right;\n",
       "    }\n",
       "</style>\n",
       "<table border=\"1\" class=\"dataframe\">\n",
       "  <thead>\n",
       "    <tr style=\"text-align: right;\">\n",
       "      <th></th>\n",
       "      <th>H</th>\n",
       "      <th>HR</th>\n",
       "      <th>RBI</th>\n",
       "      <th>SB</th>\n",
       "      <th>BA</th>\n",
       "      <th>OPS</th>\n",
       "      <th>PO</th>\n",
       "      <th>Most Valuable Player</th>\n",
       "      <th>ASG</th>\n",
       "    </tr>\n",
       "  </thead>\n",
       "  <tbody>\n",
       "    <tr>\n",
       "      <td>0</td>\n",
       "      <td>3771</td>\n",
       "      <td>755</td>\n",
       "      <td>2297.0</td>\n",
       "      <td>240.0</td>\n",
       "      <td>0.305</td>\n",
       "      <td>0.929</td>\n",
       "      <td>7436.0</td>\n",
       "      <td>1.0</td>\n",
       "      <td>24.0</td>\n",
       "    </tr>\n",
       "    <tr>\n",
       "      <td>1</td>\n",
       "      <td>772</td>\n",
       "      <td>11</td>\n",
       "      <td>324.0</td>\n",
       "      <td>142.0</td>\n",
       "      <td>0.254</td>\n",
       "      <td>0.650</td>\n",
       "      <td>1873.0</td>\n",
       "      <td>0.0</td>\n",
       "      <td>0.0</td>\n",
       "    </tr>\n",
       "    <tr>\n",
       "      <td>2</td>\n",
       "      <td>2470</td>\n",
       "      <td>288</td>\n",
       "      <td>1363.0</td>\n",
       "      <td>400.0</td>\n",
       "      <td>0.291</td>\n",
       "      <td>0.870</td>\n",
       "      <td>3952.0</td>\n",
       "      <td>0.0</td>\n",
       "      <td>2.0</td>\n",
       "    </tr>\n",
       "    <tr>\n",
       "      <td>3</td>\n",
       "      <td>1022</td>\n",
       "      <td>57</td>\n",
       "      <td>366.0</td>\n",
       "      <td>29.0</td>\n",
       "      <td>0.254</td>\n",
       "      <td>0.639</td>\n",
       "      <td>2380.0</td>\n",
       "      <td>0.0</td>\n",
       "      <td>0.0</td>\n",
       "    </tr>\n",
       "    <tr>\n",
       "      <td>4</td>\n",
       "      <td>1082</td>\n",
       "      <td>37</td>\n",
       "      <td>303.0</td>\n",
       "      <td>67.0</td>\n",
       "      <td>0.269</td>\n",
       "      <td>0.708</td>\n",
       "      <td>1748.0</td>\n",
       "      <td>0.0</td>\n",
       "      <td>0.0</td>\n",
       "    </tr>\n",
       "  </tbody>\n",
       "</table>\n",
       "</div>"
      ],
      "text/plain": [
       "      H   HR     RBI     SB     BA    OPS      PO  Most Valuable Player   ASG\n",
       "0  3771  755  2297.0  240.0  0.305  0.929  7436.0                   1.0  24.0\n",
       "1   772   11   324.0  142.0  0.254  0.650  1873.0                   0.0   0.0\n",
       "2  2470  288  1363.0  400.0  0.291  0.870  3952.0                   0.0   2.0\n",
       "3  1022   57   366.0   29.0  0.254  0.639  2380.0                   0.0   0.0\n",
       "4  1082   37   303.0   67.0  0.269  0.708  1748.0                   0.0   0.0"
      ]
     },
     "execution_count": 102,
     "metadata": {},
     "output_type": "execute_result"
    }
   ],
   "source": [
    "# Drop all of the original features as to keep only the log transformations.\n",
    "X_1 = X.drop(columns=['H_log', 'HR_log', 'RBI_log', 'SB_log', 'HBP_log', 'BA_log', 'OPS_log', \n",
    "                      'PO_log', 'Gold Glove_log', 'Most Valuable Player_log', 'Silver Slugger_log', \n",
    "                      'ASG_log', 'HBP', 'Gold Glove', 'Silver Slugger'], axis=1)\n",
    "X_1.head()"
   ]
  },
  {
   "cell_type": "code",
   "execution_count": 103,
   "metadata": {},
   "outputs": [
    {
     "name": "stdout",
     "output_type": "stream",
     "text": [
      "X_train shape: (1126, 9) | X_test shape: (483, 9)\n",
      "y_train mean: 0.05 | y_test mean: 0.05\n",
      "9 features: ['H', 'HR', 'RBI', 'SB', 'BA', 'OPS', 'PO', 'Most Valuable Player', 'ASG']\n"
     ]
    }
   ],
   "source": [
    "# Train the data.\n",
    "X_train_1, X_test_1, y_train_1, y_test_1 = train_test_split(X_1, y, test_size=.30, random_state=42)\n",
    "\n",
    "# Print the info.\n",
    "print(\"X_train shape:\", X_train_1.shape, \"| X_test shape:\", X_test_1.shape)\n",
    "print(\"y_train mean:\", round(np.mean(y_train_1),2), \"| y_test mean:\", round(np.mean(y_test_1),2))\n",
    "print(X_train_1.shape[1], \"features:\", X_train_1.columns.to_list())"
   ]
  },
  {
   "cell_type": "code",
   "execution_count": 104,
   "metadata": {},
   "outputs": [],
   "source": [
    "# Standardize the data\n",
    "std = StandardScaler()\n",
    "X_train_transformed_1 = std.fit_transform(X_train_1)\n",
    "X_test_transformed_1 = std.transform(X_test_1)"
   ]
  },
  {
   "cell_type": "code",
   "execution_count": 105,
   "metadata": {},
   "outputs": [
    {
     "name": "stdout",
     "output_type": "stream",
     "text": [
      "Grid Search found the following optimal parameters: \n",
      "C: 1\n",
      "gamma: 0.001\n",
      "kernel: 'linear'\n",
      "\n",
      "Training Accuracy: 97.96%\n",
      "Testing Accuracy: 97.72%\n"
     ]
    }
   ],
   "source": [
    "# Run the hyperparameter search on the new list of features.\n",
    "model = SVC()\n",
    "kernel = ['linear']\n",
    "C = [.0001, .001, .01, 1]\n",
    "gamma = [.001, .01, 1]\n",
    "grid = dict(kernel=kernel,C=C,gamma=gamma)\n",
    "grid_svc_1 = GridSearchCV(estimator=model, param_grid=grid, scoring='accuracy', cv=5, n_jobs=-1)\n",
    "grid_svc_1.fit(X_train_transformed_1, y_train_1)\n",
    "\n",
    "best_parameters = grid_svc_1.best_params_\n",
    "\n",
    "print('Grid Search found the following optimal parameters: ')\n",
    "for param_name in sorted(best_parameters.keys()):\n",
    "    print('%s: %r' % (param_name, best_parameters[param_name]))\n",
    "\n",
    "training_preds_1 = grid_svc_1.predict(X_train_transformed_1)\n",
    "test_preds_1 = grid_svc_1.predict(X_test_transformed_1)\n",
    "training_accuracy_1 = accuracy_score(y_train_1, training_preds_1)\n",
    "test_accuracy_1 = accuracy_score(y_test_1, test_preds_1)\n",
    "\n",
    "print('')\n",
    "print('Training Accuracy: {:.4}%'.format(training_accuracy_1 * 100))\n",
    "print('Testing Accuracy: {:.4}%'.format(test_accuracy_1 * 100))"
   ]
  },
  {
   "cell_type": "code",
   "execution_count": 106,
   "metadata": {},
   "outputs": [
    {
     "data": {
      "text/plain": [
       "<sklearn.metrics._plot.confusion_matrix.ConfusionMatrixDisplay at 0x7fdab5515588>"
      ]
     },
     "execution_count": 106,
     "metadata": {},
     "output_type": "execute_result"
    },
    {
     "data": {
      "image/png": "[encoded data removed]",
      "text/plain": [
       "<Figure size 576x576 with 2 Axes>"
      ]
     },
     "metadata": {},
     "output_type": "display_data"
    }
   ],
   "source": [
    "fig, ax = plt.subplots(figsize=(8, 8))\n",
    "plt.grid(False)\n",
    "plot_confusion_matrix(grid_svc_1, X_test_transformed_1, y_test_1, cmap='Greens', ax=ax)"
   ]
  },
  {
   "cell_type": "code",
   "execution_count": 107,
   "metadata": {},
   "outputs": [
    {
     "name": "stdout",
     "output_type": "stream",
     "text": [
      "Precision Score: 0.9333333333333333\n",
      "Recall Score: 0.5833333333333334\n",
      "Accuracy Score: 0.9772256728778468\n",
      "F1 Score: 0.7179487179487181\n"
     ]
    }
   ],
   "source": [
    "print_metrics(y_test_1, test_preds_1)"
   ]
  },
  {
   "cell_type": "markdown",
   "metadata": {},
   "source": [
    "Dropping those 3 less significant features did not have the desired impact on our model that we had hoped for, at this point I am satisfied with the optimized SVM model we created earlier. Due to the nature of Hall of Fame voting which is subjected to the opinion of Baseball writers voting on a game that has greatly changed over the century there is always going to be room for a few inaccurate predictions. Let's take one last look at the key metrics of our SVM model and make recommendations based on those."
   ]
  },
  {
   "cell_type": "code",
   "execution_count": 115,
   "metadata": {},
   "outputs": [
    {
     "data": {
      "image/png": "[encoded data removed]",
      "text/plain": [
       "<Figure size 576x576 with 2 Axes>"
      ]
     },
     "metadata": {},
     "output_type": "display_data"
    }
   ],
   "source": [
    "fig, ax = plt.subplots(figsize=(8, 8))\n",
    "plt.grid(False)\n",
    "plot_confusion_matrix(base_svc, X_test_transformed, y_test, cmap='Greens', ax=ax)\n",
    "plt.savefig('BattingCM');"
   ]
  },
  {
   "cell_type": "code",
   "execution_count": 111,
   "metadata": {},
   "outputs": [
    {
     "name": "stdout",
     "output_type": "stream",
     "text": [
      "Precision Score: 0.8888888888888888\n",
      "Recall Score: 0.6666666666666666\n",
      "Accuracy Score: 0.979296066252588\n",
      "F1 Score: 0.761904761904762\n"
     ]
    }
   ],
   "source": [
    "print_metrics(y_test, base_svc_testing_preds)"
   ]
  },
  {
   "cell_type": "markdown",
   "metadata": {},
   "source": [
    "# Recommendations"
   ]
  },
  {
   "cell_type": "markdown",
   "metadata": {},
   "source": [
    "When considering who should be inducted in the Major League Baseball Hall of Fame, I would recommend the following:\n",
    "\n",
    "1. When analyzing the past performances in order to make a decision on future inductees, remove those individuals who have not been elected due to non-performance related issues such as Performance Enhancing Drugs and scandals detrimental to the sport.\n",
    "2. When reviewing a player, some of the key areas to focus on should be MVP, Silver Slugger, Gold Glove and All-Star game appearances. There are several others but when analyzing what has had the most impact on voting in the past, those features were most predominant.\n",
    "3. Take into consideration which is more important, that there are no individuals who deserve to be in the Hall of Fame left out, that no one who doesn't deserve be let in or perhaps a combination of both. It is my recommendation that neither is more important than the other.\n",
    "4. It is important when considering a player for induction that not too much emphasis be placed on two sets of statistics that are highly correlated, otherwise it'll give additional the value to each.\n",
    "5. Although fielding is an important part of the game, most of the value of a Hall of Famer comes from the pitching or hitting statistics and to stay consistent with past voting should carry most of the weight."
   ]
  },
  {
   "cell_type": "markdown",
   "metadata": {},
   "source": [
    "# Future Work"
   ]
  },
  {
   "cell_type": "markdown",
   "metadata": {},
   "source": [
    "There are several other considerations that I would like to make in the future.\n",
    "\n",
    "1. Consider all Hall of Fame inductees, not just those voted in by the Baseball Writers of America.\n",
    "2. Further analyze how position impacts the Hall of Fame voting, for instance a catcher should be compared to other catchers rather than all position players.\n",
    "3. Which players who have currently played at least ten seasons and have not yet been eligible for HOF voting are likely to be elected based on the analysis.\n",
    "4. Incorporate the era that an individual played into the model. The game and the individual statistics have changed so much over the last 100 years that it's reasonable to assuem this is having an impact on the model."
   ]
  }
 ],
 "metadata": {
  "kernelspec": {
   "display_name": "Python 3",
   "language": "python",
   "name": "python3"
  },
  "language_info": {
   "codemirror_mode": {
    "name": "ipython",
    "version": 3
   },
   "file_extension": ".py",
   "mimetype": "text/x-python",
   "name": "python",
   "nbconvert_exporter": "python",
   "pygments_lexer": "ipython3",
   "version": "3.6.9"
  }
 },
 "nbformat": 4,
 "nbformat_minor": 2
}
